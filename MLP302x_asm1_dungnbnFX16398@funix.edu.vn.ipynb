{
 "cells": [
  {
   "cell_type": "markdown",
   "metadata": {
    "id": "wsALKyLw3pe1"
   },
   "source": [
    "# All Regression Notebook\n",
    "## Load dữ liệu\n",
    "Khai báo và load thư viện, sau đó load tập dữ liệu. Do tập dữ liệu không chứa tên cột nên chúng ta cần thêm nó vào bằng cách sử dụng list Python thủ công. \n",
    "\n",
    "Chúng ta có `all_train_data` và `all_test_data` đã được nối vào `DataFrame` tương ứng."
   ]
  },
  {
   "cell_type": "code",
   "execution_count": 1,
   "metadata": {
    "colab": {
     "base_uri": "https://localhost:8080/",
     "height": 560
    },
    "id": "KsgMGTek3pe2",
    "outputId": "5c22abf1-69fb-4945-def1-4db80de89f48"
   },
   "outputs": [
    {
     "name": "stdout",
     "output_type": "stream",
     "text": [
      "Train sets size: 2211246\n",
      "Train sets size: 4390848\n",
      "Train sets size: 6539292\n",
      "Train sets size: 8662896\n",
      "Train sets size: 10747620\n",
      "Test set size: 5400\n",
      "Test set size: 5400\n",
      "Test set size: 5400\n",
      "Test set size: 5400\n",
      "Test set size: 5400\n",
      "Test set size: 5400\n",
      "Test set size: 5400\n",
      "Test set size: 5400\n",
      "Test set size: 5400\n"
     ]
    },
    {
     "data": {
      "text/html": [
       "<div>\n",
       "<style scoped>\n",
       "    .dataframe tbody tr th:only-of-type {\n",
       "        vertical-align: middle;\n",
       "    }\n",
       "\n",
       "    .dataframe tbody tr th {\n",
       "        vertical-align: top;\n",
       "    }\n",
       "\n",
       "    .dataframe thead th {\n",
       "        text-align: right;\n",
       "    }\n",
       "</style>\n",
       "<table border=\"1\" class=\"dataframe\">\n",
       "  <thead>\n",
       "    <tr style=\"text-align: right;\">\n",
       "      <th></th>\n",
       "      <th>Popularity</th>\n",
       "      <th>Check-in</th>\n",
       "      <th>Activities</th>\n",
       "      <th>Category</th>\n",
       "      <th>F_1</th>\n",
       "      <th>F_2</th>\n",
       "      <th>F_3</th>\n",
       "      <th>F_4</th>\n",
       "      <th>F_5</th>\n",
       "      <th>F_6</th>\n",
       "      <th>...</th>\n",
       "      <th>Post_date_7</th>\n",
       "      <th>Base_date_1</th>\n",
       "      <th>Base_date_2</th>\n",
       "      <th>Base_date_3</th>\n",
       "      <th>Base_date_4</th>\n",
       "      <th>Base_date_5</th>\n",
       "      <th>Base_date_6</th>\n",
       "      <th>Base_date_7</th>\n",
       "      <th>Span count</th>\n",
       "      <th>bias</th>\n",
       "    </tr>\n",
       "  </thead>\n",
       "  <tbody>\n",
       "    <tr>\n",
       "      <th>0</th>\n",
       "      <td>634995</td>\n",
       "      <td>0</td>\n",
       "      <td>463</td>\n",
       "      <td>1</td>\n",
       "      <td>0.0</td>\n",
       "      <td>806.0</td>\n",
       "      <td>11.291045</td>\n",
       "      <td>1.0</td>\n",
       "      <td>70.495138</td>\n",
       "      <td>0.0</td>\n",
       "      <td>...</td>\n",
       "      <td>0</td>\n",
       "      <td>0</td>\n",
       "      <td>0</td>\n",
       "      <td>0</td>\n",
       "      <td>0</td>\n",
       "      <td>0</td>\n",
       "      <td>0</td>\n",
       "      <td>1</td>\n",
       "      <td>0</td>\n",
       "      <td>1</td>\n",
       "    </tr>\n",
       "    <tr>\n",
       "      <th>1</th>\n",
       "      <td>634995</td>\n",
       "      <td>0</td>\n",
       "      <td>463</td>\n",
       "      <td>1</td>\n",
       "      <td>0.0</td>\n",
       "      <td>806.0</td>\n",
       "      <td>11.291045</td>\n",
       "      <td>1.0</td>\n",
       "      <td>70.495138</td>\n",
       "      <td>0.0</td>\n",
       "      <td>...</td>\n",
       "      <td>0</td>\n",
       "      <td>0</td>\n",
       "      <td>0</td>\n",
       "      <td>0</td>\n",
       "      <td>0</td>\n",
       "      <td>0</td>\n",
       "      <td>1</td>\n",
       "      <td>0</td>\n",
       "      <td>0</td>\n",
       "      <td>1</td>\n",
       "    </tr>\n",
       "    <tr>\n",
       "      <th>2</th>\n",
       "      <td>634995</td>\n",
       "      <td>0</td>\n",
       "      <td>463</td>\n",
       "      <td>1</td>\n",
       "      <td>0.0</td>\n",
       "      <td>806.0</td>\n",
       "      <td>11.291045</td>\n",
       "      <td>1.0</td>\n",
       "      <td>70.495138</td>\n",
       "      <td>0.0</td>\n",
       "      <td>...</td>\n",
       "      <td>0</td>\n",
       "      <td>0</td>\n",
       "      <td>0</td>\n",
       "      <td>0</td>\n",
       "      <td>0</td>\n",
       "      <td>0</td>\n",
       "      <td>0</td>\n",
       "      <td>1</td>\n",
       "      <td>0</td>\n",
       "      <td>1</td>\n",
       "    </tr>\n",
       "    <tr>\n",
       "      <th>3</th>\n",
       "      <td>634995</td>\n",
       "      <td>0</td>\n",
       "      <td>463</td>\n",
       "      <td>1</td>\n",
       "      <td>0.0</td>\n",
       "      <td>806.0</td>\n",
       "      <td>11.291045</td>\n",
       "      <td>1.0</td>\n",
       "      <td>70.495138</td>\n",
       "      <td>0.0</td>\n",
       "      <td>...</td>\n",
       "      <td>0</td>\n",
       "      <td>0</td>\n",
       "      <td>1</td>\n",
       "      <td>0</td>\n",
       "      <td>0</td>\n",
       "      <td>0</td>\n",
       "      <td>0</td>\n",
       "      <td>0</td>\n",
       "      <td>0</td>\n",
       "      <td>1</td>\n",
       "    </tr>\n",
       "    <tr>\n",
       "      <th>4</th>\n",
       "      <td>634995</td>\n",
       "      <td>0</td>\n",
       "      <td>463</td>\n",
       "      <td>1</td>\n",
       "      <td>0.0</td>\n",
       "      <td>806.0</td>\n",
       "      <td>11.291045</td>\n",
       "      <td>1.0</td>\n",
       "      <td>70.495138</td>\n",
       "      <td>0.0</td>\n",
       "      <td>...</td>\n",
       "      <td>0</td>\n",
       "      <td>0</td>\n",
       "      <td>0</td>\n",
       "      <td>0</td>\n",
       "      <td>1</td>\n",
       "      <td>0</td>\n",
       "      <td>0</td>\n",
       "      <td>0</td>\n",
       "      <td>0</td>\n",
       "      <td>1</td>\n",
       "    </tr>\n",
       "  </tbody>\n",
       "</table>\n",
       "<p>5 rows × 55 columns</p>\n",
       "</div>"
      ],
      "text/plain": [
       "   Popularity  Check-in  Activities  Category  F_1    F_2        F_3  F_4  \\\n",
       "0      634995         0         463         1  0.0  806.0  11.291045  1.0   \n",
       "1      634995         0         463         1  0.0  806.0  11.291045  1.0   \n",
       "2      634995         0         463         1  0.0  806.0  11.291045  1.0   \n",
       "3      634995         0         463         1  0.0  806.0  11.291045  1.0   \n",
       "4      634995         0         463         1  0.0  806.0  11.291045  1.0   \n",
       "\n",
       "         F_5  F_6  ...  Post_date_7  Base_date_1  Base_date_2  Base_date_3  \\\n",
       "0  70.495138  0.0  ...            0            0            0            0   \n",
       "1  70.495138  0.0  ...            0            0            0            0   \n",
       "2  70.495138  0.0  ...            0            0            0            0   \n",
       "3  70.495138  0.0  ...            0            0            1            0   \n",
       "4  70.495138  0.0  ...            0            0            0            0   \n",
       "\n",
       "   Base_date_4  Base_date_5  Base_date_6  Base_date_7  Span count  bias  \n",
       "0            0            0            0            1           0     1  \n",
       "1            0            0            1            0           0     1  \n",
       "2            0            0            0            1           0     1  \n",
       "3            0            0            0            0           0     1  \n",
       "4            1            0            0            0           0     1  \n",
       "\n",
       "[5 rows x 55 columns]"
      ]
     },
     "execution_count": 1,
     "metadata": {},
     "output_type": "execute_result"
    }
   ],
   "source": [
    "import pandas\n",
    "import numpy as np\n",
    "import matplotlib.pyplot as plt\n",
    "%matplotlib inline\n",
    "\n",
    "columns_name = [\"Popularity\", \"Check-in\", \"Activities\", \"Category\"] \\\n",
    "            + [\"F_{:d}\".format(i) for i in range(1, 26)] \\\n",
    "            + [\"CC{:d}\".format(i) for i in range(1, 6)] \\\n",
    "            + [\"Base time\", \"Post length\", \"Post count\", \"Post promotion\", \"Span time\"] \\\n",
    "            + [\"Post_date_{:d}\".format(i) for i in range(1, 8)] \\\n",
    "            + [\"Base_date_{:d}\".format(i) for i in range(1, 8)] \\\n",
    "            + [\"Span count\"]\n",
    "\n",
    "# list of train data from training files\n",
    "all_train_data = [pandas.read_csv(\"Dataset/Training/Features_Variant_{:d}.csv\".format(d), header=None) for d in range(1, 6)]\n",
    "for data in all_train_data:\n",
    "    print(\"Train sets size: {:d}\".format(data.size))\n",
    "# Viết code nối dữ liệu huấn luyện\n",
    "train_data = pandas.concat(all_train_data)\n",
    "train_data.columns = columns_name\n",
    "\n",
    "# list of test data from test files\n",
    "all_test_data = [pandas.read_csv(\"Dataset/Testing/TestSet/Test_Case_{:d}.csv\".format(d), header=None) for d in range(1, 10)]\n",
    "for data in all_test_data:\n",
    "    print(\"Test set size: {:d}\".format(data.size))\n",
    "# Viết code nối dữ liệu kiểm tra\n",
    "test_data = pandas.concat(all_test_data)\n",
    "test_data.columns = columns_name\n",
    "\n",
    "train_data[\"bias\"] = 1\n",
    "test_data[\"bias\"] = 1\n",
    "\n",
    "train_data.head()\n"
   ]
  },
  {
   "cell_type": "markdown",
   "metadata": {
    "id": "gDfCdXgd3pe_"
   },
   "source": [
    "## Lựa chọn hạng mục phụ\n",
    "Cột Category chứa các index bất kỳ của hạng mục dữ liệu liên quan tới bản chất của chính bài đăng. Để đơn giản, chúng ta sẽ sử dụng hạng mục có lượng dữ liệu lớn nhất để thực hiện Hồi quy Tuyến tính.\n",
    "\n",
    "Tìm và lựa chọn hạng mục có nhiều bản ghi nhất sử dụng pandas. Lưu nó trong biến `largest_category`"
   ]
  },
  {
   "cell_type": "code",
   "execution_count": 2,
   "metadata": {
    "id": "ZRlw6ulC3pfB"
   },
   "outputs": [
    {
     "data": {
      "text/plain": [
       "9"
      ]
     },
     "execution_count": 2,
     "metadata": {},
     "output_type": "execute_result"
    }
   ],
   "source": [
    "# Viết code ở đây:\n",
    "# return a series\n",
    "# largest_category = train_data['Category'].mode()\n",
    "\n",
    "largest_category = train_data['Category'].value_counts().idxmax()\n",
    "largest_category"
   ]
  },
  {
   "cell_type": "code",
   "execution_count": 3,
   "metadata": {
    "id": "2yBrJGjv3pfH"
   },
   "outputs": [],
   "source": [
    "# Phân hạng các mô hình\n",
    "# Chọn data có phân hạng category có nhiều records nhất và drop cột 'Category'\n",
    "train_data = train_data.loc[train_data['Category'] == largest_category].drop('Category', axis=1)\n",
    "test_data = test_data.loc[test_data['Category'] == largest_category].drop('Category', axis=1)\n",
    "\n",
    "label = \"Span count\"\n",
    "features = [col for col in train_data.columns if col != label]\n",
    "\n",
    "train_features = train_data[ features ]\n",
    "train_labels = train_data[ label ]\n",
    "test_features = test_data[ features ]\n",
    "test_labels = test_data[ label ]"
   ]
  },
  {
   "cell_type": "code",
   "execution_count": 4,
   "metadata": {},
   "outputs": [
    {
     "data": {
      "text/html": [
       "<div>\n",
       "<style scoped>\n",
       "    .dataframe tbody tr th:only-of-type {\n",
       "        vertical-align: middle;\n",
       "    }\n",
       "\n",
       "    .dataframe tbody tr th {\n",
       "        vertical-align: top;\n",
       "    }\n",
       "\n",
       "    .dataframe thead th {\n",
       "        text-align: right;\n",
       "    }\n",
       "</style>\n",
       "<table border=\"1\" class=\"dataframe\">\n",
       "  <thead>\n",
       "    <tr style=\"text-align: right;\">\n",
       "      <th></th>\n",
       "      <th>Popularity</th>\n",
       "      <th>Check-in</th>\n",
       "      <th>Activities</th>\n",
       "      <th>F_1</th>\n",
       "      <th>F_2</th>\n",
       "      <th>F_3</th>\n",
       "      <th>F_4</th>\n",
       "      <th>F_5</th>\n",
       "      <th>F_6</th>\n",
       "      <th>F_7</th>\n",
       "      <th>...</th>\n",
       "      <th>Post_date_6</th>\n",
       "      <th>Post_date_7</th>\n",
       "      <th>Base_date_1</th>\n",
       "      <th>Base_date_2</th>\n",
       "      <th>Base_date_3</th>\n",
       "      <th>Base_date_4</th>\n",
       "      <th>Base_date_5</th>\n",
       "      <th>Base_date_6</th>\n",
       "      <th>Base_date_7</th>\n",
       "      <th>bias</th>\n",
       "    </tr>\n",
       "  </thead>\n",
       "  <tbody>\n",
       "    <tr>\n",
       "      <th>349</th>\n",
       "      <td>1552629</td>\n",
       "      <td>0</td>\n",
       "      <td>64641</td>\n",
       "      <td>0.0</td>\n",
       "      <td>910.0</td>\n",
       "      <td>159.701923</td>\n",
       "      <td>125.0</td>\n",
       "      <td>153.676163</td>\n",
       "      <td>0.0</td>\n",
       "      <td>621.0</td>\n",
       "      <td>...</td>\n",
       "      <td>0</td>\n",
       "      <td>0</td>\n",
       "      <td>0</td>\n",
       "      <td>1</td>\n",
       "      <td>0</td>\n",
       "      <td>0</td>\n",
       "      <td>0</td>\n",
       "      <td>0</td>\n",
       "      <td>0</td>\n",
       "      <td>1</td>\n",
       "    </tr>\n",
       "    <tr>\n",
       "      <th>350</th>\n",
       "      <td>1552629</td>\n",
       "      <td>0</td>\n",
       "      <td>64641</td>\n",
       "      <td>0.0</td>\n",
       "      <td>910.0</td>\n",
       "      <td>159.701923</td>\n",
       "      <td>125.0</td>\n",
       "      <td>153.676163</td>\n",
       "      <td>0.0</td>\n",
       "      <td>621.0</td>\n",
       "      <td>...</td>\n",
       "      <td>0</td>\n",
       "      <td>0</td>\n",
       "      <td>0</td>\n",
       "      <td>0</td>\n",
       "      <td>0</td>\n",
       "      <td>1</td>\n",
       "      <td>0</td>\n",
       "      <td>0</td>\n",
       "      <td>0</td>\n",
       "      <td>1</td>\n",
       "    </tr>\n",
       "    <tr>\n",
       "      <th>351</th>\n",
       "      <td>1552629</td>\n",
       "      <td>0</td>\n",
       "      <td>64641</td>\n",
       "      <td>0.0</td>\n",
       "      <td>910.0</td>\n",
       "      <td>159.701923</td>\n",
       "      <td>125.0</td>\n",
       "      <td>153.676163</td>\n",
       "      <td>0.0</td>\n",
       "      <td>621.0</td>\n",
       "      <td>...</td>\n",
       "      <td>0</td>\n",
       "      <td>0</td>\n",
       "      <td>0</td>\n",
       "      <td>0</td>\n",
       "      <td>0</td>\n",
       "      <td>1</td>\n",
       "      <td>0</td>\n",
       "      <td>0</td>\n",
       "      <td>0</td>\n",
       "      <td>1</td>\n",
       "    </tr>\n",
       "    <tr>\n",
       "      <th>352</th>\n",
       "      <td>1552629</td>\n",
       "      <td>0</td>\n",
       "      <td>64641</td>\n",
       "      <td>0.0</td>\n",
       "      <td>910.0</td>\n",
       "      <td>159.701923</td>\n",
       "      <td>125.0</td>\n",
       "      <td>153.676163</td>\n",
       "      <td>0.0</td>\n",
       "      <td>621.0</td>\n",
       "      <td>...</td>\n",
       "      <td>0</td>\n",
       "      <td>1</td>\n",
       "      <td>0</td>\n",
       "      <td>0</td>\n",
       "      <td>1</td>\n",
       "      <td>0</td>\n",
       "      <td>0</td>\n",
       "      <td>0</td>\n",
       "      <td>0</td>\n",
       "      <td>1</td>\n",
       "    </tr>\n",
       "    <tr>\n",
       "      <th>353</th>\n",
       "      <td>1552629</td>\n",
       "      <td>0</td>\n",
       "      <td>64641</td>\n",
       "      <td>0.0</td>\n",
       "      <td>910.0</td>\n",
       "      <td>159.701923</td>\n",
       "      <td>125.0</td>\n",
       "      <td>153.676163</td>\n",
       "      <td>0.0</td>\n",
       "      <td>621.0</td>\n",
       "      <td>...</td>\n",
       "      <td>0</td>\n",
       "      <td>1</td>\n",
       "      <td>0</td>\n",
       "      <td>1</td>\n",
       "      <td>0</td>\n",
       "      <td>0</td>\n",
       "      <td>0</td>\n",
       "      <td>0</td>\n",
       "      <td>0</td>\n",
       "      <td>1</td>\n",
       "    </tr>\n",
       "    <tr>\n",
       "      <th>...</th>\n",
       "      <td>...</td>\n",
       "      <td>...</td>\n",
       "      <td>...</td>\n",
       "      <td>...</td>\n",
       "      <td>...</td>\n",
       "      <td>...</td>\n",
       "      <td>...</td>\n",
       "      <td>...</td>\n",
       "      <td>...</td>\n",
       "      <td>...</td>\n",
       "      <td>...</td>\n",
       "      <td>...</td>\n",
       "      <td>...</td>\n",
       "      <td>...</td>\n",
       "      <td>...</td>\n",
       "      <td>...</td>\n",
       "      <td>...</td>\n",
       "      <td>...</td>\n",
       "      <td>...</td>\n",
       "      <td>...</td>\n",
       "      <td>...</td>\n",
       "    </tr>\n",
       "    <tr>\n",
       "      <th>199025</th>\n",
       "      <td>7170111</td>\n",
       "      <td>70</td>\n",
       "      <td>497000</td>\n",
       "      <td>0.0</td>\n",
       "      <td>2164.0</td>\n",
       "      <td>466.975207</td>\n",
       "      <td>244.0</td>\n",
       "      <td>497.966169</td>\n",
       "      <td>0.0</td>\n",
       "      <td>1990.0</td>\n",
       "      <td>...</td>\n",
       "      <td>0</td>\n",
       "      <td>0</td>\n",
       "      <td>0</td>\n",
       "      <td>0</td>\n",
       "      <td>0</td>\n",
       "      <td>1</td>\n",
       "      <td>0</td>\n",
       "      <td>0</td>\n",
       "      <td>0</td>\n",
       "      <td>1</td>\n",
       "    </tr>\n",
       "    <tr>\n",
       "      <th>199026</th>\n",
       "      <td>7170111</td>\n",
       "      <td>70</td>\n",
       "      <td>497000</td>\n",
       "      <td>0.0</td>\n",
       "      <td>2164.0</td>\n",
       "      <td>466.975207</td>\n",
       "      <td>244.0</td>\n",
       "      <td>497.966169</td>\n",
       "      <td>0.0</td>\n",
       "      <td>1990.0</td>\n",
       "      <td>...</td>\n",
       "      <td>0</td>\n",
       "      <td>0</td>\n",
       "      <td>0</td>\n",
       "      <td>0</td>\n",
       "      <td>0</td>\n",
       "      <td>1</td>\n",
       "      <td>0</td>\n",
       "      <td>0</td>\n",
       "      <td>0</td>\n",
       "      <td>1</td>\n",
       "    </tr>\n",
       "    <tr>\n",
       "      <th>199027</th>\n",
       "      <td>7170111</td>\n",
       "      <td>70</td>\n",
       "      <td>497000</td>\n",
       "      <td>0.0</td>\n",
       "      <td>2164.0</td>\n",
       "      <td>466.975207</td>\n",
       "      <td>244.0</td>\n",
       "      <td>497.966169</td>\n",
       "      <td>0.0</td>\n",
       "      <td>1990.0</td>\n",
       "      <td>...</td>\n",
       "      <td>0</td>\n",
       "      <td>0</td>\n",
       "      <td>0</td>\n",
       "      <td>0</td>\n",
       "      <td>0</td>\n",
       "      <td>1</td>\n",
       "      <td>0</td>\n",
       "      <td>0</td>\n",
       "      <td>0</td>\n",
       "      <td>1</td>\n",
       "    </tr>\n",
       "    <tr>\n",
       "      <th>199028</th>\n",
       "      <td>7170111</td>\n",
       "      <td>70</td>\n",
       "      <td>497000</td>\n",
       "      <td>0.0</td>\n",
       "      <td>2164.0</td>\n",
       "      <td>466.975207</td>\n",
       "      <td>244.0</td>\n",
       "      <td>497.966169</td>\n",
       "      <td>0.0</td>\n",
       "      <td>1990.0</td>\n",
       "      <td>...</td>\n",
       "      <td>0</td>\n",
       "      <td>0</td>\n",
       "      <td>0</td>\n",
       "      <td>0</td>\n",
       "      <td>0</td>\n",
       "      <td>0</td>\n",
       "      <td>1</td>\n",
       "      <td>0</td>\n",
       "      <td>0</td>\n",
       "      <td>1</td>\n",
       "    </tr>\n",
       "    <tr>\n",
       "      <th>199029</th>\n",
       "      <td>7170111</td>\n",
       "      <td>70</td>\n",
       "      <td>497000</td>\n",
       "      <td>0.0</td>\n",
       "      <td>2164.0</td>\n",
       "      <td>466.975207</td>\n",
       "      <td>244.0</td>\n",
       "      <td>497.966169</td>\n",
       "      <td>0.0</td>\n",
       "      <td>1990.0</td>\n",
       "      <td>...</td>\n",
       "      <td>0</td>\n",
       "      <td>0</td>\n",
       "      <td>0</td>\n",
       "      <td>0</td>\n",
       "      <td>0</td>\n",
       "      <td>0</td>\n",
       "      <td>0</td>\n",
       "      <td>1</td>\n",
       "      <td>0</td>\n",
       "      <td>1</td>\n",
       "    </tr>\n",
       "  </tbody>\n",
       "</table>\n",
       "<p>110313 rows × 53 columns</p>\n",
       "</div>"
      ],
      "text/plain": [
       "        Popularity  Check-in  Activities  F_1     F_2         F_3    F_4  \\\n",
       "349        1552629         0       64641  0.0   910.0  159.701923  125.0   \n",
       "350        1552629         0       64641  0.0   910.0  159.701923  125.0   \n",
       "351        1552629         0       64641  0.0   910.0  159.701923  125.0   \n",
       "352        1552629         0       64641  0.0   910.0  159.701923  125.0   \n",
       "353        1552629         0       64641  0.0   910.0  159.701923  125.0   \n",
       "...            ...       ...         ...  ...     ...         ...    ...   \n",
       "199025     7170111        70      497000  0.0  2164.0  466.975207  244.0   \n",
       "199026     7170111        70      497000  0.0  2164.0  466.975207  244.0   \n",
       "199027     7170111        70      497000  0.0  2164.0  466.975207  244.0   \n",
       "199028     7170111        70      497000  0.0  2164.0  466.975207  244.0   \n",
       "199029     7170111        70      497000  0.0  2164.0  466.975207  244.0   \n",
       "\n",
       "               F_5  F_6     F_7  ...  Post_date_6  Post_date_7  Base_date_1  \\\n",
       "349     153.676163  0.0   621.0  ...            0            0            0   \n",
       "350     153.676163  0.0   621.0  ...            0            0            0   \n",
       "351     153.676163  0.0   621.0  ...            0            0            0   \n",
       "352     153.676163  0.0   621.0  ...            0            1            0   \n",
       "353     153.676163  0.0   621.0  ...            0            1            0   \n",
       "...            ...  ...     ...  ...          ...          ...          ...   \n",
       "199025  497.966169  0.0  1990.0  ...            0            0            0   \n",
       "199026  497.966169  0.0  1990.0  ...            0            0            0   \n",
       "199027  497.966169  0.0  1990.0  ...            0            0            0   \n",
       "199028  497.966169  0.0  1990.0  ...            0            0            0   \n",
       "199029  497.966169  0.0  1990.0  ...            0            0            0   \n",
       "\n",
       "        Base_date_2  Base_date_3  Base_date_4  Base_date_5  Base_date_6  \\\n",
       "349               1            0            0            0            0   \n",
       "350               0            0            1            0            0   \n",
       "351               0            0            1            0            0   \n",
       "352               0            1            0            0            0   \n",
       "353               1            0            0            0            0   \n",
       "...             ...          ...          ...          ...          ...   \n",
       "199025            0            0            1            0            0   \n",
       "199026            0            0            1            0            0   \n",
       "199027            0            0            1            0            0   \n",
       "199028            0            0            0            1            0   \n",
       "199029            0            0            0            0            1   \n",
       "\n",
       "        Base_date_7  bias  \n",
       "349               0     1  \n",
       "350               0     1  \n",
       "351               0     1  \n",
       "352               0     1  \n",
       "353               0     1  \n",
       "...             ...   ...  \n",
       "199025            0     1  \n",
       "199026            0     1  \n",
       "199027            0     1  \n",
       "199028            0     1  \n",
       "199029            0     1  \n",
       "\n",
       "[110313 rows x 53 columns]"
      ]
     },
     "execution_count": 4,
     "metadata": {},
     "output_type": "execute_result"
    }
   ],
   "source": [
    "train_features"
   ]
  },
  {
   "cell_type": "markdown",
   "metadata": {
    "id": "luuprw_n3pfM"
   },
   "source": [
    "## Tương quan cơ bản\n",
    "Chúng ta sẽ vẽ ma trận tương quan giữa các biến CC. Tương quan rất hữu ích để xem liệu các đặc trưng có kết nối quá chặt chẽ không -  chúng ta không muốn chúng cùng nhau vì chúng sẽ tạo ra nhiễu giả gây overfit mô hình."
   ]
  },
  {
   "cell_type": "code",
   "execution_count": 5,
   "metadata": {},
   "outputs": [
    {
     "data": {
      "text/html": [
       "<div>\n",
       "<style scoped>\n",
       "    .dataframe tbody tr th:only-of-type {\n",
       "        vertical-align: middle;\n",
       "    }\n",
       "\n",
       "    .dataframe tbody tr th {\n",
       "        vertical-align: top;\n",
       "    }\n",
       "\n",
       "    .dataframe thead th {\n",
       "        text-align: right;\n",
       "    }\n",
       "</style>\n",
       "<table border=\"1\" class=\"dataframe\">\n",
       "  <thead>\n",
       "    <tr style=\"text-align: right;\">\n",
       "      <th></th>\n",
       "      <th>CC1</th>\n",
       "      <th>CC2</th>\n",
       "      <th>CC3</th>\n",
       "      <th>CC4</th>\n",
       "      <th>CC5</th>\n",
       "    </tr>\n",
       "  </thead>\n",
       "  <tbody>\n",
       "    <tr>\n",
       "      <th>CC1</th>\n",
       "      <td>1.00</td>\n",
       "      <td>0.58</td>\n",
       "      <td>0.67</td>\n",
       "      <td>1.00</td>\n",
       "      <td>-0.05</td>\n",
       "    </tr>\n",
       "    <tr>\n",
       "      <th>CC2</th>\n",
       "      <td>0.58</td>\n",
       "      <td>1.00</td>\n",
       "      <td>0.07</td>\n",
       "      <td>0.61</td>\n",
       "      <td>0.69</td>\n",
       "    </tr>\n",
       "    <tr>\n",
       "      <th>CC3</th>\n",
       "      <td>0.67</td>\n",
       "      <td>0.07</td>\n",
       "      <td>1.00</td>\n",
       "      <td>0.66</td>\n",
       "      <td>-0.67</td>\n",
       "    </tr>\n",
       "    <tr>\n",
       "      <th>CC4</th>\n",
       "      <td>1.00</td>\n",
       "      <td>0.61</td>\n",
       "      <td>0.66</td>\n",
       "      <td>1.00</td>\n",
       "      <td>-0.03</td>\n",
       "    </tr>\n",
       "    <tr>\n",
       "      <th>CC5</th>\n",
       "      <td>-0.05</td>\n",
       "      <td>0.69</td>\n",
       "      <td>-0.67</td>\n",
       "      <td>-0.03</td>\n",
       "      <td>1.00</td>\n",
       "    </tr>\n",
       "  </tbody>\n",
       "</table>\n",
       "</div>"
      ],
      "text/plain": [
       "      CC1   CC2   CC3   CC4   CC5\n",
       "CC1  1.00  0.58  0.67  1.00 -0.05\n",
       "CC2  0.58  1.00  0.07  0.61  0.69\n",
       "CC3  0.67  0.07  1.00  0.66 -0.67\n",
       "CC4  1.00  0.61  0.66  1.00 -0.03\n",
       "CC5 -0.05  0.69 -0.67 -0.03  1.00"
      ]
     },
     "execution_count": 5,
     "metadata": {},
     "output_type": "execute_result"
    }
   ],
   "source": [
    "# Correlation matrix of CC variables\n",
    "cc = pandas.DataFrame(train_features.loc[:, 'CC1':'CC5']).corr().round(2)\n",
    "cc"
   ]
  },
  {
   "cell_type": "code",
   "execution_count": 6,
   "metadata": {
    "id": "B_FBwjw03pfO",
    "outputId": "4517d7d7-ecf0-45a3-9b04-a51585620d97"
   },
   "outputs": [
    {
     "data": {
      "image/png": "[encoded data removed]",
      "text/plain": [
       "<Figure size 432x432 with 1 Axes>"
      ]
     },
     "metadata": {
      "needs_background": "light"
     },
     "output_type": "display_data"
    }
   ],
   "source": [
    "# Viết code ở đây:\n",
    "ticks_names = ['CC{:d}'.format(i) for i in range(1, 6)]\n",
    "\n",
    "fig, ax = plt.subplots(figsize=(6, 6))\n",
    "im = ax.imshow(cc)\n",
    "\n",
    "ax.tick_params(top=True, labeltop=True, bottom=False, labelbottom=False)\n",
    "ax.set_xticks(np.arange(len(ticks_names)))\n",
    "ax.set_yticks(np.arange(len(ticks_names)))\n",
    "ax.set_xticklabels(ticks_names)\n",
    "ax.set_yticklabels(ticks_names)\n",
    "\n",
    "# Loop over data dimensions and create text annotations.\n",
    "for i in range(len(ticks_names)):\n",
    "    for j in range(len(ticks_names)):\n",
    "        text = ax.text(j, i, cc.iloc[i, j],\n",
    "                       ha=\"center\", va=\"center\", color=\"k\")\n",
    "\n",
    "fig.tight_layout()\n",
    "plt.show()"
   ]
  },
  {
   "cell_type": "markdown",
   "metadata": {
    "id": "U7g4fYvJ3pfU"
   },
   "source": [
    "## Xây dựng mô hình Hồi quy\n",
    "\n",
    "__Nhiệm vụ của chúng ta là dự đoán số lượng bình luận bài đăng sẽ nhận được (cột \"Span count\")__ <br>\n",
    "\"Span time\" thì cần thiết trong khi tất cả các cột khác tùy chọn. <br>\n",
    "Thử mô hình Hồi quy đa biến đơn giản chỉ có các đặc trưng cơ bản: <br>\n",
    "[\"Popularity\", \"Base time\", \"Post length\", \"Post count\", \"Span time\", \"bias\"]. <br>\n",
    "\n",
    "In ra hệ số MSE từ sklearn hoặc RSS từ khóa học cho cả tập huấn luyện và tập kiểm tra."
   ]
  },
  {
   "cell_type": "code",
   "execution_count": 7,
   "metadata": {},
   "outputs": [],
   "source": [
    "def rss_calculate(predicts, output):\n",
    "    \"\"\"Calculate RSS\"\"\"\n",
    "    return sum((predicts - output) ** 2)"
   ]
  },
  {
   "cell_type": "code",
   "execution_count": 8,
   "metadata": {
    "id": "wawBZN663pfV"
   },
   "outputs": [
    {
     "name": "stdout",
     "output_type": "stream",
     "text": [
      "Train set:\n",
      "  - MSE:  1.6896E+03\n",
      "  - RSS:  1.8638E+08\n",
      "\n",
      "Test set:\n",
      "  - MSE:  5.3406E+03\n",
      " - RSS:  1.3939E+06\n"
     ]
    }
   ],
   "source": [
    "# Viết code ở đây:\n",
    "from sklearn.linear_model import LinearRegression\n",
    "from sklearn.metrics import mean_squared_error\n",
    "\n",
    "# Training features & training labels\n",
    "simple_feature_titles = ['Popularity', 'Base time', 'Post length', 'Post count', 'Span time', 'bias']\n",
    "simple_train_features = train_features.loc[:, simple_feature_titles].values\n",
    "simple_train_labels = train_labels.values\n",
    "\n",
    "# Test features & test labels\n",
    "simple_test_features = test_features.loc[:, simple_feature_titles].values\n",
    "simple_test_labels = test_labels.values\n",
    "\n",
    "# Multi-variables LinearRegression model on 6 simple features\n",
    "linear = LinearRegression()\n",
    "linear.fit(simple_train_features, simple_train_labels)\n",
    "\n",
    "# Predictions on training set & test set\n",
    "simple_train_predicts = linear.predict(simple_train_features)\n",
    "simple_test_predicts = linear.predict(simple_test_features)\n",
    "\n",
    "# MSE of training set & test set\n",
    "simple_train_mse = mean_squared_error(simple_train_predicts, simple_train_labels)\n",
    "simple_test_mse = mean_squared_error(simple_test_predicts, simple_test_labels)\n",
    "\n",
    "# RSS of training set & test set\n",
    "simple_train_rss = rss_calculate(simple_train_predicts, simple_train_labels)\n",
    "simple_test_rss = rss_calculate(simple_test_predicts, simple_test_labels)\n",
    "\n",
    "print(f'Train set:\\n  - MSE: {simple_train_mse: .4E}\\n  - RSS: {simple_train_rss: .4E}')\n",
    "print()\n",
    "print(f'Test set:\\n  - MSE: {simple_test_mse: .4E}\\n - RSS: {simple_test_rss: .4E}')"
   ]
  },
  {
   "cell_type": "markdown",
   "metadata": {
    "id": "wQpTJVPA3pfb"
   },
   "source": [
    "### Hãy thử cải thiện với nhiều đặc trưng hơn\n",
    "Không phải mô hình tốt nhất chúng ta có thể sử dụng. Chúng ta có thể thử thêm nhiều đặc trưng liên quan. <br>Nối tất cả các thuộc tính CC vào các đặc trưng và thử lại với cùng số liệu."
   ]
  },
  {
   "cell_type": "code",
   "execution_count": 9,
   "metadata": {
    "id": "pgRc-PxW3pfc"
   },
   "outputs": [
    {
     "name": "stdout",
     "output_type": "stream",
     "text": [
      "Train set:\n",
      "  - MSE:  1.5350E+03\n",
      "  - RSS:  1.6933E+08\n",
      "\n",
      "Test set:\n",
      "  - MSE:  3.8785E+03\n",
      " - RSS:  1.0123E+06\n"
     ]
    }
   ],
   "source": [
    "# Viết code ở đây:\n",
    "# Training features and labels data\n",
    "simple_feature_titles_with_cc = simple_feature_titles + ['CC{:d}'.format(i) for i in range(1, 6)]\n",
    "simple_train_features_with_cc = train_features.loc[:, simple_feature_titles_with_cc].values\n",
    "simple_train_labels = train_labels.values\n",
    "\n",
    "# Test features and labels data\n",
    "simple_test_features_with_cc = test_features.loc[:, simple_feature_titles_with_cc].values\n",
    "simple_test_labels = test_labels.values\n",
    "\n",
    "# LinearRegression model on all features\n",
    "linear_with_cc = LinearRegression()\n",
    "linear_with_cc.fit(simple_train_features_with_cc, simple_train_labels)\n",
    "\n",
    "# Train and test predictions\n",
    "simple_train_predicts_with_cc = linear_with_cc.predict(simple_train_features_with_cc)\n",
    "simple_test_predicts_with_cc = linear_with_cc.predict(simple_test_features_with_cc)\n",
    "\n",
    "# MSE of train and test set\n",
    "simple_train_mse_with_cc = mean_squared_error(simple_train_predicts_with_cc, simple_train_labels)\n",
    "simple_test_mse_with_cc = mean_squared_error(simple_test_predicts_with_cc, simple_test_labels)\n",
    "\n",
    "# RSS of train and test set\n",
    "simple_train_rss_with_cc = rss_calculate(simple_train_predicts_with_cc, simple_train_labels)\n",
    "simple_test_rss_with_cc = rss_calculate(simple_test_predicts_with_cc, simple_test_labels)\n",
    "\n",
    "print(f'Train set:\\n  - MSE: {simple_train_mse_with_cc: .4E}\\n  - RSS: {simple_train_rss_with_cc: .4E}')\n",
    "print()\n",
    "print(f'Test set:\\n  - MSE: {simple_test_mse_with_cc: .4E}\\n - RSS: {simple_test_rss_with_cc: .4E}')"
   ]
  },
  {
   "cell_type": "markdown",
   "metadata": {
    "id": "bxjlSr703pfi"
   },
   "source": [
    "Bài học rút ra: Tối ưu hóa sớm hiếm khi hữu ích. \n",
    "\n",
    "## Giải quyết overfit\n",
    "### Áp dụng cách giải cho overfit\n",
    "\n",
    "Sự khác biệt về hệ số huấn luyện và kiểm tra chỉ ra mô hình có thể overfitting. Hãy thử sửa chữa. Mở rộng hồi quy [RidgeCV](https://scikit-learn.org/stable/modules/generated/sklearn.linear_model.RidgeCV.html) (cv = 10) với alpha dọc theo logspace giữa 0 và 10, ghi nhận giá trị có chất lượng tốt nhất thành biến `best_alpha`, và *có thể tùy chọn vẽ một đồ thị cho độ lớn của các hệ số*."
   ]
  },
  {
   "cell_type": "code",
   "execution_count": 10,
   "metadata": {
    "id": "OVv4BUUP3pfk"
   },
   "outputs": [
    {
     "data": {
      "text/plain": [
       "1000.0"
      ]
     },
     "execution_count": 10,
     "metadata": {},
     "output_type": "execute_result"
    }
   ],
   "source": [
    "# Viết code ở đây:\n",
    "from sklearn.linear_model import RidgeCV\n",
    "from sklearn.preprocessing import StandardScaler\n",
    "\n",
    "# scale 6 simple features with CC features\n",
    "scaler_with_cc = StandardScaler()\n",
    "scaled_simple_train_features_with_cc = scaler_with_cc.fit_transform(simple_train_features_with_cc)\n",
    "\n",
    "# Ridge model for 11 features\n",
    "l2_penalty = np.logspace(0, 10, num=11)\n",
    "ridgecv_with_cc = RidgeCV(alphas=l2_penalty, cv=10)\n",
    "ridgecv_with_cc.fit(scaled_simple_train_features_with_cc, simple_train_labels)\n",
    "best_alpha = ridgecv_with_cc.alpha_\n",
    "best_alpha"
   ]
  },
  {
   "cell_type": "code",
   "execution_count": 11,
   "metadata": {},
   "outputs": [
    {
     "name": "stdout",
     "output_type": "stream",
     "text": [
      "RIDGE WITH CC (11 features)\n",
      "Train set:\n",
      "  - MSE:  1.5351E+03\n",
      "  - RSS:  1.6935E+08\n",
      "\n",
      "Test set:\n",
      "  - MSE:  3.8788E+03\n",
      " - RSS:  1.0124E+06\n"
     ]
    }
   ],
   "source": [
    "# scaled 11 simple test features\n",
    "scaled_simple_test_features_with_cc = scaler_with_cc.transform(simple_test_features_with_cc)\n",
    "\n",
    "# predict on test features\n",
    "ridgecv_simple_test_with_cc_predicts = ridgecv_with_cc.predict(scaled_simple_test_features_with_cc)\n",
    "# predict on train features\n",
    "ridgecv_simple_train_with_cc_predicts = ridgecv_with_cc.predict(scaled_simple_train_features_with_cc)\n",
    "\n",
    "# mse and rss of train set\n",
    "ridgecv_simple_train_with_cc_mse = mean_squared_error(ridgecv_simple_train_with_cc_predicts, simple_train_labels)\n",
    "ridgecv_simple_train_with_cc_rss = rss_calculate(ridgecv_simple_train_with_cc_predicts, simple_train_labels)\n",
    "\n",
    "# mse and rss of test set\n",
    "ridgecv_simple_test_with_cc_mse = mean_squared_error(ridgecv_simple_test_with_cc_predicts, simple_test_labels)\n",
    "ridgecv_simple_test_with_cc_rss = rss_calculate(ridgecv_simple_test_with_cc_predicts, simple_test_labels)\n",
    "                                                \n",
    "print('RIDGE WITH CC (11 features)')\n",
    "print(f'Train set:\\n  - MSE: {ridgecv_simple_train_with_cc_mse: .4E}\\n  - RSS: {ridgecv_simple_train_with_cc_rss: .4E}')\n",
    "print()\n",
    "print(f'Test set:\\n  - MSE: {ridgecv_simple_test_with_cc_mse: .4E}\\n - RSS: {ridgecv_simple_test_with_cc_rss: .4E}')"
   ]
  },
  {
   "cell_type": "code",
   "execution_count": 12,
   "metadata": {},
   "outputs": [],
   "source": [
    "# Dictionary of {weight[i]: [weight[i]'s values on each value of l2_penalty]}\n",
    "weights = {}\n",
    "# Initialize each weight with an empty list\n",
    "for k in range(len(simple_feature_titles_with_cc)):\n",
    "    weights[k+1] = []\n",
    "\n",
    "# Loop through RidgeCV with each value of l2_penalty to get value of each weight on that l2_penalty\n",
    "for i in range(len(l2_penalty)):\n",
    "    ridgecv_single_alpha = RidgeCV(alphas=[l2_penalty[i]], cv=10)\n",
    "    ridgecv_single_alpha.fit(scaled_simple_train_features_with_cc, simple_train_labels)\n",
    "    \n",
    "    # Add each weight value to its key\n",
    "    for j in range(len(ridgecv_single_alpha.coef_)):\n",
    "        weights[j + 1] += [ridgecv_single_alpha.coef_[j]]"
   ]
  },
  {
   "cell_type": "code",
   "execution_count": 13,
   "metadata": {},
   "outputs": [
    {
     "data": {
      "image/png": "[encoded data removed]",
      "text/plain": [
       "<Figure size 1080x576 with 1 Axes>"
      ]
     },
     "metadata": {},
     "output_type": "display_data"
    }
   ],
   "source": [
    "# Plot of change in each weight on each value of l2_penalty\n",
    "plt.style.use('ggplot')\n",
    "fig, ax = plt.subplots(figsize=(15, 8))\n",
    "plt.xscale('log')\n",
    "for k, v in weights.items():\n",
    "    ax.plot(l2_penalty, v, label=f'w{k}')\n",
    "    \n",
    "ax.set_title('Ridge model - Changes on weights for different values of alpha (L2)')\n",
    "ax.set_xlabel('Alpha values (L2)')\n",
    "ax.set_ylabel('Changes on weights')\n",
    "plt.legend(loc='upper right')\n",
    "plt.show()"
   ]
  },
  {
   "cell_type": "markdown",
   "metadata": {
    "id": "b1EfkDro3pfq"
   },
   "source": [
    "### Thử Hồi quy RidgeCV trên mọi cột\n",
    "Nó đã hoạt động, nhưng chúng ta cần tự hỏi liệu có tiếp tục sử dụng tập đặc trưng không hoàn thiện thay vì một tập hợp tối ưu nữa không. Mở rộng các đặc trưng cho tất cả các cột trừ nhãn được chỉ định. Hãy chạy và xem điều gì sẽ xảy ra."
   ]
  },
  {
   "cell_type": "code",
   "execution_count": 14,
   "metadata": {
    "scrolled": true
   },
   "outputs": [
    {
     "name": "stdout",
     "output_type": "stream",
     "text": [
      "RIDGECV WITH ALL FEATURES\n",
      "Train set:\n",
      "  - MSE:  1.5123E+03\n",
      "  - RSS:  1.6682E+08\n",
      "\n",
      "Test set:\n",
      "  - MSE:  3.9284E+03\n",
      "  - RSS:  1.0253E+06\n"
     ]
    }
   ],
   "source": [
    "# scale all training features\n",
    "scaler_all_features = StandardScaler()\n",
    "train_features_all = train_features.values\n",
    "scaled_train_features_all = scaler_all_features.fit_transform(train_features_all)\n",
    "\n",
    "# scale all test features\n",
    "test_features_all = test_features.values\n",
    "scaled_test_features_all = scaler_all_features.transform(test_features_all)\n",
    "\n",
    "# RidgeCV model on all features\n",
    "ridgecv_all_features = RidgeCV(alphas=l2_penalty, cv=10)\n",
    "ridgecv_all_features.fit(scaled_train_features_all, train_labels)\n",
    "\n",
    "# predict outputs from train set and test set\n",
    "ridgecv_train_features_all_predicts = ridgecv_all_features.predict(scaled_train_features_all)\n",
    "ridgecv_test_features_all_predicts = ridgecv_all_features.predict(scaled_test_features_all)\n",
    "\n",
    "# mse and rss of train set\n",
    "ridgecv_train_features_all_mse = mean_squared_error(ridgecv_train_features_all_predicts, simple_train_labels)\n",
    "ridgecv_train_features_all_rss = rss_calculate(ridgecv_train_features_all_predicts, simple_train_labels)\n",
    "\n",
    "# mse and rss of test set\n",
    "ridgecv_test_features_all_mse = mean_squared_error(ridgecv_test_features_all_predicts, simple_test_labels)\n",
    "ridgecv_test_features_all_rss = rss_calculate(ridgecv_test_features_all_predicts, simple_test_labels)\n",
    "\n",
    "print('RIDGECV WITH ALL FEATURES')\n",
    "print(f'Train set:\\n  - MSE: {ridgecv_train_features_all_mse: .4E}\\n  - RSS: {ridgecv_train_features_all_rss: .4E}')\n",
    "print()\n",
    "print(f'Test set:\\n  - MSE: {ridgecv_test_features_all_mse: .4E}\\n  - RSS: {ridgecv_test_features_all_rss: .4E}')"
   ]
  },
  {
   "cell_type": "markdown",
   "metadata": {
    "id": "a4BoQx053pfx"
   },
   "source": [
    "## Lựa chọn đặc trưng\n",
    "### Áp dụng LASSO\n",
    "Chúng ta có thể cắt tỉa các đặc trưng sử dụng những gì đã học. Lần này sẽ ghi lại các đặc trưng đã chọn của [LassoCV](https://scikit-learn.org/stable/modules/generated/sklearn.linear_model.LassoCV.html) (cv = 10) sử dụng biến `lasso_selected_features`, và <i>có thể tùy chọn vẽ một đồ thị giữa số lượng đặc trưng đã loại và các giá trị alpha</i>."
   ]
  },
  {
   "cell_type": "code",
   "execution_count": 15,
   "metadata": {
    "id": "wN4A7SLx3pfr",
    "outputId": "b1a5f1ad-b985-4106-ddf3-b5a97f800e53"
   },
   "outputs": [
    {
     "name": "stderr",
     "output_type": "stream",
     "text": [
      "C:\\Users\\PC\\anaconda3\\lib\\site-packages\\sklearn\\linear_model\\_coordinate_descent.py:633: ConvergenceWarning: Objective did not converge. You might want to increase the number of iterations. Duality gap: 669879.9585820287, tolerance: 198979.06167705357\n",
      "  model = cd_fast.enet_coordinate_descent_gram(\n",
      "C:\\Users\\PC\\anaconda3\\lib\\site-packages\\sklearn\\linear_model\\_coordinate_descent.py:633: ConvergenceWarning: Objective did not converge. You might want to increase the number of iterations. Duality gap: 3845936.786735326, tolerance: 198979.06167705357\n",
      "  model = cd_fast.enet_coordinate_descent_gram(\n",
      "C:\\Users\\PC\\anaconda3\\lib\\site-packages\\sklearn\\linear_model\\_coordinate_descent.py:633: ConvergenceWarning: Objective did not converge. You might want to increase the number of iterations. Duality gap: 11821204.096097603, tolerance: 198979.06167705357\n",
      "  model = cd_fast.enet_coordinate_descent_gram(\n",
      "C:\\Users\\PC\\anaconda3\\lib\\site-packages\\sklearn\\linear_model\\_coordinate_descent.py:633: ConvergenceWarning: Objective did not converge. You might want to increase the number of iterations. Duality gap: 31675448.741917074, tolerance: 198979.06167705357\n",
      "  model = cd_fast.enet_coordinate_descent_gram(\n",
      "C:\\Users\\PC\\anaconda3\\lib\\site-packages\\sklearn\\linear_model\\_coordinate_descent.py:633: ConvergenceWarning: Objective did not converge. You might want to increase the number of iterations. Duality gap: 361741.47644644976, tolerance: 198973.3690428521\n",
      "  model = cd_fast.enet_coordinate_descent_gram(\n",
      "C:\\Users\\PC\\anaconda3\\lib\\site-packages\\sklearn\\linear_model\\_coordinate_descent.py:633: ConvergenceWarning: Objective did not converge. You might want to increase the number of iterations. Duality gap: 1182816.0808272064, tolerance: 198973.3690428521\n",
      "  model = cd_fast.enet_coordinate_descent_gram(\n",
      "C:\\Users\\PC\\anaconda3\\lib\\site-packages\\sklearn\\linear_model\\_coordinate_descent.py:633: ConvergenceWarning: Objective did not converge. You might want to increase the number of iterations. Duality gap: 2570932.440803647, tolerance: 198973.3690428521\n",
      "  model = cd_fast.enet_coordinate_descent_gram(\n",
      "C:\\Users\\PC\\anaconda3\\lib\\site-packages\\sklearn\\linear_model\\_coordinate_descent.py:633: ConvergenceWarning: Objective did not converge. You might want to increase the number of iterations. Duality gap: 4295367.789393574, tolerance: 198973.3690428521\n",
      "  model = cd_fast.enet_coordinate_descent_gram(\n",
      "C:\\Users\\PC\\anaconda3\\lib\\site-packages\\sklearn\\linear_model\\_coordinate_descent.py:633: ConvergenceWarning: Objective did not converge. You might want to increase the number of iterations. Duality gap: 12915866.575271592, tolerance: 198973.3690428521\n",
      "  model = cd_fast.enet_coordinate_descent_gram(\n",
      "C:\\Users\\PC\\anaconda3\\lib\\site-packages\\sklearn\\linear_model\\_coordinate_descent.py:633: ConvergenceWarning: Objective did not converge. You might want to increase the number of iterations. Duality gap: 31363262.539871216, tolerance: 198973.3690428521\n",
      "  model = cd_fast.enet_coordinate_descent_gram(\n",
      "C:\\Users\\PC\\anaconda3\\lib\\site-packages\\sklearn\\linear_model\\_coordinate_descent.py:633: ConvergenceWarning: Objective did not converge. You might want to increase the number of iterations. Duality gap: 771390.740331173, tolerance: 208508.94380171335\n",
      "  model = cd_fast.enet_coordinate_descent_gram(\n",
      "C:\\Users\\PC\\anaconda3\\lib\\site-packages\\sklearn\\linear_model\\_coordinate_descent.py:633: ConvergenceWarning: Objective did not converge. You might want to increase the number of iterations. Duality gap: 2970339.960582733, tolerance: 208508.94380171335\n",
      "  model = cd_fast.enet_coordinate_descent_gram(\n",
      "C:\\Users\\PC\\anaconda3\\lib\\site-packages\\sklearn\\linear_model\\_coordinate_descent.py:633: ConvergenceWarning: Objective did not converge. You might want to increase the number of iterations. Duality gap: 9107991.752183676, tolerance: 208508.94380171335\n",
      "  model = cd_fast.enet_coordinate_descent_gram(\n",
      "C:\\Users\\PC\\anaconda3\\lib\\site-packages\\sklearn\\linear_model\\_coordinate_descent.py:633: ConvergenceWarning: Objective did not converge. You might want to increase the number of iterations. Duality gap: 19533858.634010926, tolerance: 208508.94380171335\n",
      "  model = cd_fast.enet_coordinate_descent_gram(\n",
      "C:\\Users\\PC\\anaconda3\\lib\\site-packages\\sklearn\\linear_model\\_coordinate_descent.py:633: ConvergenceWarning: Objective did not converge. You might want to increase the number of iterations. Duality gap: 38219376.65482785, tolerance: 208508.94380171335\n",
      "  model = cd_fast.enet_coordinate_descent_gram(\n",
      "C:\\Users\\PC\\anaconda3\\lib\\site-packages\\sklearn\\linear_model\\_coordinate_descent.py:633: ConvergenceWarning: Objective did not converge. You might want to increase the number of iterations. Duality gap: 540690.4210665226, tolerance: 203721.60156886716\n",
      "  model = cd_fast.enet_coordinate_descent_gram(\n",
      "C:\\Users\\PC\\anaconda3\\lib\\site-packages\\sklearn\\linear_model\\_coordinate_descent.py:633: ConvergenceWarning: Objective did not converge. You might want to increase the number of iterations. Duality gap: 872708.2482463717, tolerance: 203721.60156886716\n",
      "  model = cd_fast.enet_coordinate_descent_gram(\n",
      "C:\\Users\\PC\\anaconda3\\lib\\site-packages\\sklearn\\linear_model\\_coordinate_descent.py:633: ConvergenceWarning: Objective did not converge. You might want to increase the number of iterations. Duality gap: 3396523.165387258, tolerance: 203721.60156886716\n",
      "  model = cd_fast.enet_coordinate_descent_gram(\n",
      "C:\\Users\\PC\\anaconda3\\lib\\site-packages\\sklearn\\linear_model\\_coordinate_descent.py:633: ConvergenceWarning: Objective did not converge. You might want to increase the number of iterations. Duality gap: 10581555.6303377, tolerance: 203721.60156886716\n",
      "  model = cd_fast.enet_coordinate_descent_gram(\n",
      "C:\\Users\\PC\\anaconda3\\lib\\site-packages\\sklearn\\linear_model\\_coordinate_descent.py:633: ConvergenceWarning: Objective did not converge. You might want to increase the number of iterations. Duality gap: 30867754.13132967, tolerance: 203721.60156886716\n",
      "  model = cd_fast.enet_coordinate_descent_gram(\n",
      "C:\\Users\\PC\\anaconda3\\lib\\site-packages\\sklearn\\linear_model\\_coordinate_descent.py:633: ConvergenceWarning: Objective did not converge. You might want to increase the number of iterations. Duality gap: 370232.90188497305, tolerance: 201007.1462885558\n",
      "  model = cd_fast.enet_coordinate_descent_gram(\n",
      "C:\\Users\\PC\\anaconda3\\lib\\site-packages\\sklearn\\linear_model\\_coordinate_descent.py:633: ConvergenceWarning: Objective did not converge. You might want to increase the number of iterations. Duality gap: 1566696.871118635, tolerance: 201007.1462885558\n",
      "  model = cd_fast.enet_coordinate_descent_gram(\n",
      "C:\\Users\\PC\\anaconda3\\lib\\site-packages\\sklearn\\linear_model\\_coordinate_descent.py:633: ConvergenceWarning: Objective did not converge. You might want to increase the number of iterations. Duality gap: 5081867.62257722, tolerance: 201007.1462885558\n",
      "  model = cd_fast.enet_coordinate_descent_gram(\n",
      "C:\\Users\\PC\\anaconda3\\lib\\site-packages\\sklearn\\linear_model\\_coordinate_descent.py:633: ConvergenceWarning: Objective did not converge. You might want to increase the number of iterations. Duality gap: 14990510.494570136, tolerance: 201007.1462885558\n",
      "  model = cd_fast.enet_coordinate_descent_gram(\n",
      "C:\\Users\\PC\\anaconda3\\lib\\site-packages\\sklearn\\linear_model\\_coordinate_descent.py:633: ConvergenceWarning: Objective did not converge. You might want to increase the number of iterations. Duality gap: 34274882.10378167, tolerance: 201007.1462885558\n",
      "  model = cd_fast.enet_coordinate_descent_gram(\n",
      "C:\\Users\\PC\\anaconda3\\lib\\site-packages\\sklearn\\linear_model\\_coordinate_descent.py:633: ConvergenceWarning: Objective did not converge. You might want to increase the number of iterations. Duality gap: 813334.555524081, tolerance: 194233.764188041\n",
      "  model = cd_fast.enet_coordinate_descent_gram(\n",
      "C:\\Users\\PC\\anaconda3\\lib\\site-packages\\sklearn\\linear_model\\_coordinate_descent.py:633: ConvergenceWarning: Objective did not converge. You might want to increase the number of iterations. Duality gap: 982593.6014987826, tolerance: 194233.764188041\n",
      "  model = cd_fast.enet_coordinate_descent_gram(\n",
      "C:\\Users\\PC\\anaconda3\\lib\\site-packages\\sklearn\\linear_model\\_coordinate_descent.py:633: ConvergenceWarning: Objective did not converge. You might want to increase the number of iterations. Duality gap: 2671010.018308699, tolerance: 194233.764188041\n",
      "  model = cd_fast.enet_coordinate_descent_gram(\n",
      "C:\\Users\\PC\\anaconda3\\lib\\site-packages\\sklearn\\linear_model\\_coordinate_descent.py:633: ConvergenceWarning: Objective did not converge. You might want to increase the number of iterations. Duality gap: 7392090.277158588, tolerance: 194233.764188041\n",
      "  model = cd_fast.enet_coordinate_descent_gram(\n",
      "C:\\Users\\PC\\anaconda3\\lib\\site-packages\\sklearn\\linear_model\\_coordinate_descent.py:633: ConvergenceWarning: Objective did not converge. You might want to increase the number of iterations. Duality gap: 17004315.88590786, tolerance: 194233.764188041\n",
      "  model = cd_fast.enet_coordinate_descent_gram(\n",
      "C:\\Users\\PC\\anaconda3\\lib\\site-packages\\sklearn\\linear_model\\_coordinate_descent.py:633: ConvergenceWarning: Objective did not converge. You might want to increase the number of iterations. Duality gap: 33698283.122698486, tolerance: 194233.764188041\n",
      "  model = cd_fast.enet_coordinate_descent_gram(\n",
      "C:\\Users\\PC\\anaconda3\\lib\\site-packages\\sklearn\\linear_model\\_coordinate_descent.py:633: ConvergenceWarning: Objective did not converge. You might want to increase the number of iterations. Duality gap: 1154677.470772028, tolerance: 207920.7659166806\n",
      "  model = cd_fast.enet_coordinate_descent_gram(\n",
      "C:\\Users\\PC\\anaconda3\\lib\\site-packages\\sklearn\\linear_model\\_coordinate_descent.py:633: ConvergenceWarning: Objective did not converge. You might want to increase the number of iterations. Duality gap: 467962.4841683209, tolerance: 207920.7659166806\n",
      "  model = cd_fast.enet_coordinate_descent_gram(\n",
      "C:\\Users\\PC\\anaconda3\\lib\\site-packages\\sklearn\\linear_model\\_coordinate_descent.py:633: ConvergenceWarning: Objective did not converge. You might want to increase the number of iterations. Duality gap: 1674655.8478378206, tolerance: 207920.7659166806\n",
      "  model = cd_fast.enet_coordinate_descent_gram(\n",
      "C:\\Users\\PC\\anaconda3\\lib\\site-packages\\sklearn\\linear_model\\_coordinate_descent.py:633: ConvergenceWarning: Objective did not converge. You might want to increase the number of iterations. Duality gap: 3461173.149023548, tolerance: 207920.7659166806\n",
      "  model = cd_fast.enet_coordinate_descent_gram(\n",
      "C:\\Users\\PC\\anaconda3\\lib\\site-packages\\sklearn\\linear_model\\_coordinate_descent.py:633: ConvergenceWarning: Objective did not converge. You might want to increase the number of iterations. Duality gap: 7288034.015375435, tolerance: 207920.7659166806\n",
      "  model = cd_fast.enet_coordinate_descent_gram(\n",
      "C:\\Users\\PC\\anaconda3\\lib\\site-packages\\sklearn\\linear_model\\_coordinate_descent.py:633: ConvergenceWarning: Objective did not converge. You might want to increase the number of iterations. Duality gap: 16383451.252960965, tolerance: 207920.7659166806\n",
      "  model = cd_fast.enet_coordinate_descent_gram(\n",
      "C:\\Users\\PC\\anaconda3\\lib\\site-packages\\sklearn\\linear_model\\_coordinate_descent.py:633: ConvergenceWarning: Objective did not converge. You might want to increase the number of iterations. Duality gap: 33692940.29354648, tolerance: 207920.7659166806\n",
      "  model = cd_fast.enet_coordinate_descent_gram(\n",
      "C:\\Users\\PC\\anaconda3\\lib\\site-packages\\sklearn\\linear_model\\_coordinate_descent.py:633: ConvergenceWarning: Objective did not converge. You might want to increase the number of iterations. Duality gap: 2651435.730393648, tolerance: 208952.43213751062\n",
      "  model = cd_fast.enet_coordinate_descent_gram(\n",
      "C:\\Users\\PC\\anaconda3\\lib\\site-packages\\sklearn\\linear_model\\_coordinate_descent.py:633: ConvergenceWarning: Objective did not converge. You might want to increase the number of iterations. Duality gap: 8019964.854033202, tolerance: 208952.43213751062\n",
      "  model = cd_fast.enet_coordinate_descent_gram(\n",
      "C:\\Users\\PC\\anaconda3\\lib\\site-packages\\sklearn\\linear_model\\_coordinate_descent.py:633: ConvergenceWarning: Objective did not converge. You might want to increase the number of iterations. Duality gap: 19369256.5925024, tolerance: 208952.43213751062\n",
      "  model = cd_fast.enet_coordinate_descent_gram(\n",
      "C:\\Users\\PC\\anaconda3\\lib\\site-packages\\sklearn\\linear_model\\_coordinate_descent.py:633: ConvergenceWarning: Objective did not converge. You might want to increase the number of iterations. Duality gap: 37991414.39682973, tolerance: 208952.43213751062\n",
      "  model = cd_fast.enet_coordinate_descent_gram(\n",
      "C:\\Users\\PC\\anaconda3\\lib\\site-packages\\sklearn\\linear_model\\_coordinate_descent.py:633: ConvergenceWarning: Objective did not converge. You might want to increase the number of iterations. Duality gap: 753353.2010592073, tolerance: 194602.28603607422\n",
      "  model = cd_fast.enet_coordinate_descent_gram(\n",
      "C:\\Users\\PC\\anaconda3\\lib\\site-packages\\sklearn\\linear_model\\_coordinate_descent.py:633: ConvergenceWarning: Objective did not converge. You might want to increase the number of iterations. Duality gap: 2156830.171720773, tolerance: 194602.28603607422\n",
      "  model = cd_fast.enet_coordinate_descent_gram(\n",
      "C:\\Users\\PC\\anaconda3\\lib\\site-packages\\sklearn\\linear_model\\_coordinate_descent.py:633: ConvergenceWarning: Objective did not converge. You might want to increase the number of iterations. Duality gap: 6809336.065923721, tolerance: 194602.28603607422\n",
      "  model = cd_fast.enet_coordinate_descent_gram(\n",
      "C:\\Users\\PC\\anaconda3\\lib\\site-packages\\sklearn\\linear_model\\_coordinate_descent.py:633: ConvergenceWarning: Objective did not converge. You might want to increase the number of iterations. Duality gap: 15706708.841667235, tolerance: 194602.28603607422\n",
      "  model = cd_fast.enet_coordinate_descent_gram(\n",
      "C:\\Users\\PC\\anaconda3\\lib\\site-packages\\sklearn\\linear_model\\_coordinate_descent.py:633: ConvergenceWarning: Objective did not converge. You might want to increase the number of iterations. Duality gap: 31193107.372175187, tolerance: 194602.28603607422\n",
      "  model = cd_fast.enet_coordinate_descent_gram(\n",
      "C:\\Users\\PC\\anaconda3\\lib\\site-packages\\sklearn\\linear_model\\_coordinate_descent.py:633: ConvergenceWarning: Objective did not converge. You might want to increase the number of iterations. Duality gap: 871868.3453858495, tolerance: 211372.12928366108\n",
      "  model = cd_fast.enet_coordinate_descent_gram(\n",
      "C:\\Users\\PC\\anaconda3\\lib\\site-packages\\sklearn\\linear_model\\_coordinate_descent.py:633: ConvergenceWarning: Objective did not converge. You might want to increase the number of iterations. Duality gap: 734940.5556334555, tolerance: 211372.12928366108\n",
      "  model = cd_fast.enet_coordinate_descent_gram(\n",
      "C:\\Users\\PC\\anaconda3\\lib\\site-packages\\sklearn\\linear_model\\_coordinate_descent.py:633: ConvergenceWarning: Objective did not converge. You might want to increase the number of iterations. Duality gap: 2257765.061677903, tolerance: 211372.12928366108\n",
      "  model = cd_fast.enet_coordinate_descent_gram(\n",
      "C:\\Users\\PC\\anaconda3\\lib\\site-packages\\sklearn\\linear_model\\_coordinate_descent.py:633: ConvergenceWarning: Objective did not converge. You might want to increase the number of iterations. Duality gap: 8070929.334279835, tolerance: 211372.12928366108\n",
      "  model = cd_fast.enet_coordinate_descent_gram(\n",
      "C:\\Users\\PC\\anaconda3\\lib\\site-packages\\sklearn\\linear_model\\_coordinate_descent.py:633: ConvergenceWarning: Objective did not converge. You might want to increase the number of iterations. Duality gap: 18825067.673021004, tolerance: 211372.12928366108\n",
      "  model = cd_fast.enet_coordinate_descent_gram(\n",
      "C:\\Users\\PC\\anaconda3\\lib\\site-packages\\sklearn\\linear_model\\_coordinate_descent.py:633: ConvergenceWarning: Objective did not converge. You might want to increase the number of iterations. Duality gap: 37622500.78438829, tolerance: 211372.12928366108\n",
      "  model = cd_fast.enet_coordinate_descent_gram(\n"
     ]
    },
    {
     "name": "stdout",
     "output_type": "stream",
     "text": [
      "MSE on training: 1512.5207; MSE on test: 3986.8193\n"
     ]
    },
    {
     "name": "stderr",
     "output_type": "stream",
     "text": [
      "C:\\Users\\PC\\anaconda3\\lib\\site-packages\\sklearn\\linear_model\\_coordinate_descent.py:647: ConvergenceWarning: Objective did not converge. You might want to increase the number of iterations, check the scale of the features or consider increasing regularisation. Duality gap: 5.235e+07, tolerance: 2.254e+05\n",
      "  model = cd_fast.enet_coordinate_descent(\n"
     ]
    }
   ],
   "source": [
    "# Viết code ở đây:\n",
    "from sklearn.linear_model import LassoCV\n",
    "\n",
    "# features's and label's names\n",
    "label = 'Span count'\n",
    "features = [col for col in train_data.columns if col != label]\n",
    "\n",
    "# extract train and test data\n",
    "train_features = train_data[features].values\n",
    "train_labels = train_data[label].values\n",
    "test_features = test_data[features].values\n",
    "test_labels = test_data[label].values\n",
    "\n",
    "# scale all features\n",
    "scaler = StandardScaler()\n",
    "train_features = scaler.fit_transform(train_features)\n",
    "test_features = scaler.transform(test_features)\n",
    "\n",
    "# LassoCV\n",
    "multi_model = LassoCV(alphas=np.arange(0.001, 0.01, 0.001), cv=10, max_iter=5000, tol=0.001)\n",
    "multi_model.fit(train_features, train_labels)\n",
    "test_predictions = multi_model.predict(test_features)\n",
    "\n",
    "# test and train mse\n",
    "test_mse_score = mean_squared_error(test_labels, test_predictions)\n",
    "train_mse_score = mean_squared_error(train_labels, multi_model.predict(train_features))\n",
    "print(\"MSE on training: {:.4f}; MSE on test: {:.4f}\".format(train_mse_score, test_mse_score))"
   ]
  },
  {
   "cell_type": "code",
   "execution_count": 16,
   "metadata": {},
   "outputs": [
    {
     "data": {
      "text/plain": [
       "0.001"
      ]
     },
     "execution_count": 16,
     "metadata": {},
     "output_type": "execute_result"
    }
   ],
   "source": [
    "multi_model.alpha_"
   ]
  },
  {
   "cell_type": "code",
   "execution_count": 17,
   "metadata": {},
   "outputs": [
    {
     "data": {
      "text/plain": [
       "48"
      ]
     },
     "execution_count": 17,
     "metadata": {},
     "output_type": "execute_result"
    }
   ],
   "source": [
    "np.count_nonzero(multi_model.coef_)"
   ]
  },
  {
   "cell_type": "code",
   "execution_count": 18,
   "metadata": {},
   "outputs": [
    {
     "name": "stdout",
     "output_type": "stream",
     "text": [
      "['Popularity', 'Check-in', 'Activities', 'F_1', 'F_2', 'F_3', 'F_4', 'F_5', 'F_6', 'F_7', 'F_8', 'F_9', 'F_10', 'F_11', 'F_12', 'F_13', 'F_14', 'F_15', 'F_16', 'F_18', 'F_19', 'F_20', 'F_21', 'F_22', 'F_23', 'F_24', 'F_25', 'CC1', 'CC2', 'CC3', 'CC4', 'CC5', 'Base time', 'Post length', 'Post count', 'Span time', 'Post_date_1', 'Post_date_2', 'Post_date_3', 'Post_date_4', 'Post_date_5', 'Post_date_6', 'Base_date_2', 'Base_date_3', 'Base_date_4', 'Base_date_5', 'Base_date_6', 'Base_date_7']\n"
     ]
    }
   ],
   "source": [
    "# selected features from lasso model with alpha=0.0006\n",
    "lasso_selected_features_index = np.argwhere(multi_model.coef_ != 0).reshape(1, -1)[0]\n",
    "lasso_selected_features = [features[i] for i in lasso_selected_features_index]\n",
    "print(lasso_selected_features)"
   ]
  },
  {
   "cell_type": "code",
   "execution_count": 19,
   "metadata": {
    "id": "ZBiQAzNu3pfy"
   },
   "outputs": [
    {
     "name": "stderr",
     "output_type": "stream",
     "text": [
      "C:\\Users\\PC\\anaconda3\\lib\\site-packages\\sklearn\\linear_model\\_coordinate_descent.py:647: ConvergenceWarning: Objective did not converge. You might want to increase the number of iterations, check the scale of the features or consider increasing regularisation. Duality gap: 1.493e+06, tolerance: 2.254e+04\n",
      "  model = cd_fast.enet_coordinate_descent(\n"
     ]
    }
   ],
   "source": [
    "# Viết code ở đây:\n",
    "from sklearn.linear_model import Lasso\n",
    "\n",
    "# list of number of features excluded on each alpha\n",
    "excluded_weights_num = []\n",
    "alphas = np.arange(0.01, 0.1, 0.01)\n",
    "total_features = len(features)\n",
    "\n",
    "for i in alphas:\n",
    "    lasso = Lasso(alpha=i, max_iter=3000)\n",
    "    lasso.fit(train_features, train_labels)\n",
    "    excluded_weights_num.append(total_features - np.count_nonzero(lasso.coef_))"
   ]
  },
  {
   "cell_type": "code",
   "execution_count": 20,
   "metadata": {
    "scrolled": true
   },
   "outputs": [
    {
     "name": "stdout",
     "output_type": "stream",
     "text": [
      "[11, 19, 18, 19, 22, 25, 27, 27, 27]\n"
     ]
    }
   ],
   "source": [
    "print(excluded_weights_num)"
   ]
  },
  {
   "cell_type": "code",
   "execution_count": 21,
   "metadata": {},
   "outputs": [
    {
     "data": {
      "image/png": "[encoded data removed]",
      "text/plain": [
       "<Figure size 432x288 with 1 Axes>"
      ]
     },
     "metadata": {},
     "output_type": "display_data"
    }
   ],
   "source": [
    "# plot number of features excluded on values of L1\n",
    "plt.plot(alphas, excluded_weights_num, marker='.', markersize=30)\n",
    "plt.plot(alphas, excluded_weights_num, 'y-')\n",
    "plt.title('Number of excluded features for each value of alpha')\n",
    "plt.xlabel('Values of L1')\n",
    "plt.ylabel('Number of excluded features')\n",
    "plt.show()"
   ]
  },
  {
   "cell_type": "markdown",
   "metadata": {
    "id": "7-alhAu13pf4"
   },
   "source": [
    "### Xây dựng mô hình chặt chẽ hơn với các đặc trưng đã chọn\n",
    "Khi thực hiện lựa chọn đặc trưng, chúng ta có thể sẽ phải thêm lại độ chệch vào list các đặc trưng. Hãy sử dụng các đặc trưng đã chọn để xây dựng mô hình và tính toán chất lượng dựa trên các chỉ số."
   ]
  },
  {
   "cell_type": "code",
   "execution_count": 22,
   "metadata": {
    "id": "lTLBNiVL3pf5"
   },
   "outputs": [],
   "source": [
    "if(\"bias\" not in lasso_selected_features):\n",
    "    lasso_selected_features.append('bias')"
   ]
  },
  {
   "cell_type": "code",
   "execution_count": 23,
   "metadata": {
    "id": "SLNyIeow4D0t"
   },
   "outputs": [
    {
     "data": {
      "text/plain": [
       "RidgeCV(alphas=array([1.00000000e+00, 3.16227766e+00, 1.00000000e+01, 3.16227766e+01,\n",
       "       1.00000000e+02, 3.16227766e+02, 1.00000000e+03, 3.16227766e+03,\n",
       "       1.00000000e+04, 3.16227766e+04, 1.00000000e+05, 3.16227766e+05,\n",
       "       1.00000000e+06, 3.16227766e+06, 1.00000000e+07, 3.16227766e+07,\n",
       "       1.00000000e+08, 3.16227766e+08, 1.00000000e+09, 3.16227766e+09,\n",
       "       1.00000000e+10]),\n",
       "        cv=10)"
      ]
     },
     "execution_count": 23,
     "metadata": {},
     "output_type": "execute_result"
    }
   ],
   "source": [
    "# Viết code ở đây:\n",
    "# get selected train and test features from lasso\n",
    "selected_features_index = lasso_selected_features_index.reshape(1, -1)[0]\n",
    "scaled_train_selected_features = train_features[:, selected_features_index]\n",
    "scaled_test_selected_features = test_features[:, selected_features_index]\n",
    "\n",
    "# RidgeCV model on selected features\n",
    "l2_penalty = np.logspace(0, 10, num=21)\n",
    "ridgecv = RidgeCV(alphas=l2_penalty, cv=10)\n",
    "ridgecv.fit(scaled_train_selected_features, train_labels)"
   ]
  },
  {
   "cell_type": "code",
   "execution_count": 24,
   "metadata": {},
   "outputs": [
    {
     "name": "stdout",
     "output_type": "stream",
     "text": [
      "RIDGECV WITH SELECTED FEATURES FROM LASSO\n",
      "Train set:\n",
      "  MSE:  1.5123E+03\n",
      "  RSS:  1.6682E+08\n",
      "\n",
      "Test set:\n",
      "  MSE:  3.9321E+03\n",
      "  RSS:  1.0263E+06\n"
     ]
    }
   ],
   "source": [
    "# predictions of ridge model on selected features\n",
    "ridgecv_train_predicts = ridgecv.predict(scaled_train_selected_features)\n",
    "ridgecv_test_predicts = ridgecv.predict(scaled_test_selected_features)\n",
    "\n",
    "# mse of train and test sets\n",
    "ridgecv_train_mse = mean_squared_error(train_labels, ridgecv_train_predicts)\n",
    "ridgecv_test_mse = mean_squared_error(test_labels, ridgecv_test_predicts)\n",
    "\n",
    "# rss of train and test sets\n",
    "ridgecv_train_rss = rss_calculate(train_labels, ridgecv_train_predicts)\n",
    "ridgecv_test_rss = rss_calculate(test_labels, ridgecv_test_predicts)\n",
    "\n",
    "print('RIDGECV WITH SELECTED FEATURES FROM LASSO')\n",
    "print(f'Train set:\\n  MSE: {ridgecv_train_mse: .4E}\\n  RSS: {ridgecv_train_rss: .4E}')\n",
    "print()\n",
    "print(f'Test set:\\n  MSE: {ridgecv_test_mse: .4E}\\n  RSS: {ridgecv_test_rss: .4E}')"
   ]
  },
  {
   "cell_type": "markdown",
   "metadata": {
    "id": "IPCIEyCG3pf-"
   },
   "source": [
    "## Kết hợp mọi thứ trên một mô hình\n",
    "LASSO đã thực hiện rất tốt, thu nhỏ các đặc trưng nhiễu và không cần thiết, tăng tốc độ tính toán. Bây giờ hãy kết hợp cả 2 kỹ thuật trước đó vào cùng một mô hình."
   ]
  },
  {
   "cell_type": "code",
   "execution_count": 25,
   "metadata": {},
   "outputs": [],
   "source": [
    "def errors(model, features, labels):\n",
    "    \"\"\"Calculate MSE and RSS of a fitted model on input data\"\"\"\n",
    "    \n",
    "    predicts = model.predict(features)\n",
    "    \n",
    "    mse = mean_squared_error(labels, predicts)\n",
    "    rss = rss_calculate(labels, predicts)\n",
    "    \n",
    "    return (mse, rss)"
   ]
  },
  {
   "cell_type": "code",
   "execution_count": 26,
   "metadata": {
    "id": "RH6S9qpP3pf_"
   },
   "outputs": [
    {
     "name": "stderr",
     "output_type": "stream",
     "text": [
      "C:\\Users\\PC\\anaconda3\\lib\\site-packages\\sklearn\\linear_model\\_coordinate_descent.py:633: ConvergenceWarning: Objective did not converge. You might want to increase the number of iterations. Duality gap: 142607.17319753766, tolerance: 19897.906167705358\n",
      "  model = cd_fast.enet_coordinate_descent_gram(\n",
      "C:\\Users\\PC\\anaconda3\\lib\\site-packages\\sklearn\\linear_model\\_coordinate_descent.py:633: ConvergenceWarning: Objective did not converge. You might want to increase the number of iterations. Duality gap: 25247.17627108097, tolerance: 19897.906167705358\n",
      "  model = cd_fast.enet_coordinate_descent_gram(\n",
      "C:\\Users\\PC\\anaconda3\\lib\\site-packages\\sklearn\\linear_model\\_coordinate_descent.py:633: ConvergenceWarning: Objective did not converge. You might want to increase the number of iterations. Duality gap: 180524.13317477703, tolerance: 19897.906167705358\n",
      "  model = cd_fast.enet_coordinate_descent_gram(\n",
      "C:\\Users\\PC\\anaconda3\\lib\\site-packages\\sklearn\\linear_model\\_coordinate_descent.py:633: ConvergenceWarning: Objective did not converge. You might want to increase the number of iterations. Duality gap: 686682.4176757038, tolerance: 19897.906167705358\n",
      "  model = cd_fast.enet_coordinate_descent_gram(\n",
      "C:\\Users\\PC\\anaconda3\\lib\\site-packages\\sklearn\\linear_model\\_coordinate_descent.py:633: ConvergenceWarning: Objective did not converge. You might want to increase the number of iterations. Duality gap: 3904768.044085905, tolerance: 19897.906167705358\n",
      "  model = cd_fast.enet_coordinate_descent_gram(\n",
      "C:\\Users\\PC\\anaconda3\\lib\\site-packages\\sklearn\\linear_model\\_coordinate_descent.py:633: ConvergenceWarning: Objective did not converge. You might want to increase the number of iterations. Duality gap: 11872438.14622274, tolerance: 19897.906167705358\n",
      "  model = cd_fast.enet_coordinate_descent_gram(\n",
      "C:\\Users\\PC\\anaconda3\\lib\\site-packages\\sklearn\\linear_model\\_coordinate_descent.py:633: ConvergenceWarning: Objective did not converge. You might want to increase the number of iterations. Duality gap: 31705285.335097425, tolerance: 19897.906167705358\n",
      "  model = cd_fast.enet_coordinate_descent_gram(\n",
      "C:\\Users\\PC\\anaconda3\\lib\\site-packages\\sklearn\\linear_model\\_coordinate_descent.py:633: ConvergenceWarning: Objective did not converge. You might want to increase the number of iterations. Duality gap: 361741.47644644976, tolerance: 19897.33690428521\n",
      "  model = cd_fast.enet_coordinate_descent_gram(\n",
      "C:\\Users\\PC\\anaconda3\\lib\\site-packages\\sklearn\\linear_model\\_coordinate_descent.py:633: ConvergenceWarning: Objective did not converge. You might want to increase the number of iterations. Duality gap: 179271.73650982976, tolerance: 19897.33690428521\n",
      "  model = cd_fast.enet_coordinate_descent_gram(\n",
      "C:\\Users\\PC\\anaconda3\\lib\\site-packages\\sklearn\\linear_model\\_coordinate_descent.py:633: ConvergenceWarning: Objective did not converge. You might want to increase the number of iterations. Duality gap: 1224373.8412545621, tolerance: 19897.33690428521\n",
      "  model = cd_fast.enet_coordinate_descent_gram(\n",
      "C:\\Users\\PC\\anaconda3\\lib\\site-packages\\sklearn\\linear_model\\_coordinate_descent.py:633: ConvergenceWarning: Objective did not converge. You might want to increase the number of iterations. Duality gap: 2630914.8104056567, tolerance: 19897.33690428521\n",
      "  model = cd_fast.enet_coordinate_descent_gram(\n",
      "C:\\Users\\PC\\anaconda3\\lib\\site-packages\\sklearn\\linear_model\\_coordinate_descent.py:633: ConvergenceWarning: Objective did not converge. You might want to increase the number of iterations. Duality gap: 4318272.002590567, tolerance: 19897.33690428521\n",
      "  model = cd_fast.enet_coordinate_descent_gram(\n",
      "C:\\Users\\PC\\anaconda3\\lib\\site-packages\\sklearn\\linear_model\\_coordinate_descent.py:633: ConvergenceWarning: Objective did not converge. You might want to increase the number of iterations. Duality gap: 12930168.537542358, tolerance: 19897.33690428521\n",
      "  model = cd_fast.enet_coordinate_descent_gram(\n",
      "C:\\Users\\PC\\anaconda3\\lib\\site-packages\\sklearn\\linear_model\\_coordinate_descent.py:633: ConvergenceWarning: Objective did not converge. You might want to increase the number of iterations. Duality gap: 31372118.923827678, tolerance: 19897.33690428521\n",
      "  model = cd_fast.enet_coordinate_descent_gram(\n",
      "C:\\Users\\PC\\anaconda3\\lib\\site-packages\\sklearn\\linear_model\\_coordinate_descent.py:633: ConvergenceWarning: Objective did not converge. You might want to increase the number of iterations. Duality gap: 177973.6654277444, tolerance: 20850.894380171336\n",
      "  model = cd_fast.enet_coordinate_descent_gram(\n",
      "C:\\Users\\PC\\anaconda3\\lib\\site-packages\\sklearn\\linear_model\\_coordinate_descent.py:633: ConvergenceWarning: Objective did not converge. You might want to increase the number of iterations. Duality gap: 24584.073304265738, tolerance: 20850.894380171336\n",
      "  model = cd_fast.enet_coordinate_descent_gram(\n",
      "C:\\Users\\PC\\anaconda3\\lib\\site-packages\\sklearn\\linear_model\\_coordinate_descent.py:633: ConvergenceWarning: Objective did not converge. You might want to increase the number of iterations. Duality gap: 806581.7732338607, tolerance: 20850.894380171336\n",
      "  model = cd_fast.enet_coordinate_descent_gram(\n",
      "C:\\Users\\PC\\anaconda3\\lib\\site-packages\\sklearn\\linear_model\\_coordinate_descent.py:633: ConvergenceWarning: Objective did not converge. You might want to increase the number of iterations. Duality gap: 3016319.7777819335, tolerance: 20850.894380171336\n",
      "  model = cd_fast.enet_coordinate_descent_gram(\n",
      "C:\\Users\\PC\\anaconda3\\lib\\site-packages\\sklearn\\linear_model\\_coordinate_descent.py:633: ConvergenceWarning: Objective did not converge. You might want to increase the number of iterations. Duality gap: 9150897.635282204, tolerance: 20850.894380171336\n",
      "  model = cd_fast.enet_coordinate_descent_gram(\n",
      "C:\\Users\\PC\\anaconda3\\lib\\site-packages\\sklearn\\linear_model\\_coordinate_descent.py:633: ConvergenceWarning: Objective did not converge. You might want to increase the number of iterations. Duality gap: 19552006.933225513, tolerance: 20850.894380171336\n",
      "  model = cd_fast.enet_coordinate_descent_gram(\n",
      "C:\\Users\\PC\\anaconda3\\lib\\site-packages\\sklearn\\linear_model\\_coordinate_descent.py:633: ConvergenceWarning: Objective did not converge. You might want to increase the number of iterations. Duality gap: 38229992.022655934, tolerance: 20850.894380171336\n",
      "  model = cd_fast.enet_coordinate_descent_gram(\n",
      "C:\\Users\\PC\\anaconda3\\lib\\site-packages\\sklearn\\linear_model\\_coordinate_descent.py:633: ConvergenceWarning: Objective did not converge. You might want to increase the number of iterations. Duality gap: 540690.4210665226, tolerance: 20372.160156886715\n",
      "  model = cd_fast.enet_coordinate_descent_gram(\n",
      "C:\\Users\\PC\\anaconda3\\lib\\site-packages\\sklearn\\linear_model\\_coordinate_descent.py:633: ConvergenceWarning: Objective did not converge. You might want to increase the number of iterations. Duality gap: 220608.50022000074, tolerance: 20372.160156886715\n",
      "  model = cd_fast.enet_coordinate_descent_gram(\n",
      "C:\\Users\\PC\\anaconda3\\lib\\site-packages\\sklearn\\linear_model\\_coordinate_descent.py:633: ConvergenceWarning: Objective did not converge. You might want to increase the number of iterations. Duality gap: 920647.8326444477, tolerance: 20372.160156886715\n",
      "  model = cd_fast.enet_coordinate_descent_gram(\n",
      "C:\\Users\\PC\\anaconda3\\lib\\site-packages\\sklearn\\linear_model\\_coordinate_descent.py:633: ConvergenceWarning: Objective did not converge. You might want to increase the number of iterations. Duality gap: 3445491.351521522, tolerance: 20372.160156886715\n",
      "  model = cd_fast.enet_coordinate_descent_gram(\n",
      "C:\\Users\\PC\\anaconda3\\lib\\site-packages\\sklearn\\linear_model\\_coordinate_descent.py:633: ConvergenceWarning: Objective did not converge. You might want to increase the number of iterations. Duality gap: 10619059.827472582, tolerance: 20372.160156886715\n",
      "  model = cd_fast.enet_coordinate_descent_gram(\n",
      "C:\\Users\\PC\\anaconda3\\lib\\site-packages\\sklearn\\linear_model\\_coordinate_descent.py:633: ConvergenceWarning: Objective did not converge. You might want to increase the number of iterations. Duality gap: 30884760.612700775, tolerance: 20372.160156886715\n",
      "  model = cd_fast.enet_coordinate_descent_gram(\n",
      "C:\\Users\\PC\\anaconda3\\lib\\site-packages\\sklearn\\linear_model\\_coordinate_descent.py:633: ConvergenceWarning: Objective did not converge. You might want to increase the number of iterations. Duality gap: 505567.44884103537, tolerance: 20100.71462885558\n",
      "  model = cd_fast.enet_coordinate_descent_gram(\n",
      "C:\\Users\\PC\\anaconda3\\lib\\site-packages\\sklearn\\linear_model\\_coordinate_descent.py:633: ConvergenceWarning: Objective did not converge. You might want to increase the number of iterations. Duality gap: 25149.3974776268, tolerance: 20100.71462885558\n",
      "  model = cd_fast.enet_coordinate_descent_gram(\n",
      "C:\\Users\\PC\\anaconda3\\lib\\site-packages\\sklearn\\linear_model\\_coordinate_descent.py:633: ConvergenceWarning: Objective did not converge. You might want to increase the number of iterations. Duality gap: 561542.3581522405, tolerance: 20100.71462885558\n",
      "  model = cd_fast.enet_coordinate_descent_gram(\n",
      "C:\\Users\\PC\\anaconda3\\lib\\site-packages\\sklearn\\linear_model\\_coordinate_descent.py:633: ConvergenceWarning: Objective did not converge. You might want to increase the number of iterations. Duality gap: 1721883.9176360518, tolerance: 20100.71462885558\n",
      "  model = cd_fast.enet_coordinate_descent_gram(\n",
      "C:\\Users\\PC\\anaconda3\\lib\\site-packages\\sklearn\\linear_model\\_coordinate_descent.py:633: ConvergenceWarning: Objective did not converge. You might want to increase the number of iterations. Duality gap: 5180751.491489351, tolerance: 20100.71462885558\n",
      "  model = cd_fast.enet_coordinate_descent_gram(\n",
      "C:\\Users\\PC\\anaconda3\\lib\\site-packages\\sklearn\\linear_model\\_coordinate_descent.py:633: ConvergenceWarning: Objective did not converge. You might want to increase the number of iterations. Duality gap: 15061136.299412206, tolerance: 20100.71462885558\n",
      "  model = cd_fast.enet_coordinate_descent_gram(\n",
      "C:\\Users\\PC\\anaconda3\\lib\\site-packages\\sklearn\\linear_model\\_coordinate_descent.py:633: ConvergenceWarning: Objective did not converge. You might want to increase the number of iterations. Duality gap: 34315210.21333085, tolerance: 20100.71462885558\n",
      "  model = cd_fast.enet_coordinate_descent_gram(\n",
      "C:\\Users\\PC\\anaconda3\\lib\\site-packages\\sklearn\\linear_model\\_coordinate_descent.py:633: ConvergenceWarning: Objective did not converge. You might want to increase the number of iterations. Duality gap: 813334.555524081, tolerance: 19423.376418804102\n",
      "  model = cd_fast.enet_coordinate_descent_gram(\n",
      "C:\\Users\\PC\\anaconda3\\lib\\site-packages\\sklearn\\linear_model\\_coordinate_descent.py:633: ConvergenceWarning: Objective did not converge. You might want to increase the number of iterations. Duality gap: 187040.53448456526, tolerance: 19423.376418804102\n",
      "  model = cd_fast.enet_coordinate_descent_gram(\n",
      "C:\\Users\\PC\\anaconda3\\lib\\site-packages\\sklearn\\linear_model\\_coordinate_descent.py:633: ConvergenceWarning: Objective did not converge. You might want to increase the number of iterations. Duality gap: 1042496.3267661929, tolerance: 19423.376418804102\n",
      "  model = cd_fast.enet_coordinate_descent_gram(\n",
      "C:\\Users\\PC\\anaconda3\\lib\\site-packages\\sklearn\\linear_model\\_coordinate_descent.py:633: ConvergenceWarning: Objective did not converge. You might want to increase the number of iterations. Duality gap: 2720378.8083857447, tolerance: 19423.376418804102\n",
      "  model = cd_fast.enet_coordinate_descent_gram(\n",
      "C:\\Users\\PC\\anaconda3\\lib\\site-packages\\sklearn\\linear_model\\_coordinate_descent.py:633: ConvergenceWarning: Objective did not converge. You might want to increase the number of iterations. Duality gap: 7427101.495905474, tolerance: 19423.376418804102\n",
      "  model = cd_fast.enet_coordinate_descent_gram(\n",
      "C:\\Users\\PC\\anaconda3\\lib\\site-packages\\sklearn\\linear_model\\_coordinate_descent.py:633: ConvergenceWarning: Objective did not converge. You might want to increase the number of iterations. Duality gap: 17026862.818623036, tolerance: 19423.376418804102\n",
      "  model = cd_fast.enet_coordinate_descent_gram(\n",
      "C:\\Users\\PC\\anaconda3\\lib\\site-packages\\sklearn\\linear_model\\_coordinate_descent.py:633: ConvergenceWarning: Objective did not converge. You might want to increase the number of iterations. Duality gap: 33711266.553655945, tolerance: 19423.376418804102\n",
      "  model = cd_fast.enet_coordinate_descent_gram(\n",
      "C:\\Users\\PC\\anaconda3\\lib\\site-packages\\sklearn\\linear_model\\_coordinate_descent.py:633: ConvergenceWarning: Objective did not converge. You might want to increase the number of iterations. Duality gap: 1154677.470772028, tolerance: 20792.07659166806\n",
      "  model = cd_fast.enet_coordinate_descent_gram(\n",
      "C:\\Users\\PC\\anaconda3\\lib\\site-packages\\sklearn\\linear_model\\_coordinate_descent.py:633: ConvergenceWarning: Objective did not converge. You might want to increase the number of iterations. Duality gap: 25208.541545927525, tolerance: 20792.07659166806\n",
      "  model = cd_fast.enet_coordinate_descent_gram(\n",
      "C:\\Users\\PC\\anaconda3\\lib\\site-packages\\sklearn\\linear_model\\_coordinate_descent.py:633: ConvergenceWarning: Objective did not converge. You might want to increase the number of iterations. Duality gap: 465487.18460571766, tolerance: 20792.07659166806\n",
      "  model = cd_fast.enet_coordinate_descent_gram(\n",
      "C:\\Users\\PC\\anaconda3\\lib\\site-packages\\sklearn\\linear_model\\_coordinate_descent.py:633: ConvergenceWarning: Objective did not converge. You might want to increase the number of iterations. Duality gap: 1679247.364583224, tolerance: 20792.07659166806\n",
      "  model = cd_fast.enet_coordinate_descent_gram(\n",
      "C:\\Users\\PC\\anaconda3\\lib\\site-packages\\sklearn\\linear_model\\_coordinate_descent.py:633: ConvergenceWarning: Objective did not converge. You might want to increase the number of iterations. Duality gap: 3465180.4054953456, tolerance: 20792.07659166806\n",
      "  model = cd_fast.enet_coordinate_descent_gram(\n",
      "C:\\Users\\PC\\anaconda3\\lib\\site-packages\\sklearn\\linear_model\\_coordinate_descent.py:633: ConvergenceWarning: Objective did not converge. You might want to increase the number of iterations. Duality gap: 7291030.143267527, tolerance: 20792.07659166806\n",
      "  model = cd_fast.enet_coordinate_descent_gram(\n",
      "C:\\Users\\PC\\anaconda3\\lib\\site-packages\\sklearn\\linear_model\\_coordinate_descent.py:633: ConvergenceWarning: Objective did not converge. You might want to increase the number of iterations. Duality gap: 16385548.875398964, tolerance: 20792.07659166806\n",
      "  model = cd_fast.enet_coordinate_descent_gram(\n",
      "C:\\Users\\PC\\anaconda3\\lib\\site-packages\\sklearn\\linear_model\\_coordinate_descent.py:633: ConvergenceWarning: Objective did not converge. You might want to increase the number of iterations. Duality gap: 33694136.97220752, tolerance: 20792.07659166806\n",
      "  model = cd_fast.enet_coordinate_descent_gram(\n",
      "C:\\Users\\PC\\anaconda3\\lib\\site-packages\\sklearn\\linear_model\\_coordinate_descent.py:633: ConvergenceWarning: Objective did not converge. You might want to increase the number of iterations. Duality gap: 103887.62837764621, tolerance: 20895.243213751062\n",
      "  model = cd_fast.enet_coordinate_descent_gram(\n",
      "C:\\Users\\PC\\anaconda3\\lib\\site-packages\\sklearn\\linear_model\\_coordinate_descent.py:633: ConvergenceWarning: Objective did not converge. You might want to increase the number of iterations. Duality gap: 196098.7793458104, tolerance: 20895.243213751062\n",
      "  model = cd_fast.enet_coordinate_descent_gram(\n",
      "C:\\Users\\PC\\anaconda3\\lib\\site-packages\\sklearn\\linear_model\\_coordinate_descent.py:633: ConvergenceWarning: Objective did not converge. You might want to increase the number of iterations. Duality gap: 2688714.2059772313, tolerance: 20895.243213751062\n",
      "  model = cd_fast.enet_coordinate_descent_gram(\n",
      "C:\\Users\\PC\\anaconda3\\lib\\site-packages\\sklearn\\linear_model\\_coordinate_descent.py:633: ConvergenceWarning: Objective did not converge. You might want to increase the number of iterations. Duality gap: 8058048.833740443, tolerance: 20895.243213751062\n",
      "  model = cd_fast.enet_coordinate_descent_gram(\n",
      "C:\\Users\\PC\\anaconda3\\lib\\site-packages\\sklearn\\linear_model\\_coordinate_descent.py:633: ConvergenceWarning: Objective did not converge. You might want to increase the number of iterations. Duality gap: 19396879.56158124, tolerance: 20895.243213751062\n",
      "  model = cd_fast.enet_coordinate_descent_gram(\n",
      "C:\\Users\\PC\\anaconda3\\lib\\site-packages\\sklearn\\linear_model\\_coordinate_descent.py:633: ConvergenceWarning: Objective did not converge. You might want to increase the number of iterations. Duality gap: 38005120.24305607, tolerance: 20895.243213751062\n",
      "  model = cd_fast.enet_coordinate_descent_gram(\n",
      "C:\\Users\\PC\\anaconda3\\lib\\site-packages\\sklearn\\linear_model\\_coordinate_descent.py:633: ConvergenceWarning: Objective did not converge. You might want to increase the number of iterations. Duality gap: 182460.27479881048, tolerance: 19460.228603607422\n",
      "  model = cd_fast.enet_coordinate_descent_gram(\n",
      "C:\\Users\\PC\\anaconda3\\lib\\site-packages\\sklearn\\linear_model\\_coordinate_descent.py:633: ConvergenceWarning: Objective did not converge. You might want to increase the number of iterations. Duality gap: 783216.8067867458, tolerance: 19460.228603607422\n",
      "  model = cd_fast.enet_coordinate_descent_gram(\n",
      "C:\\Users\\PC\\anaconda3\\lib\\site-packages\\sklearn\\linear_model\\_coordinate_descent.py:633: ConvergenceWarning: Objective did not converge. You might want to increase the number of iterations. Duality gap: 2197489.5274074674, tolerance: 19460.228603607422\n",
      "  model = cd_fast.enet_coordinate_descent_gram(\n",
      "C:\\Users\\PC\\anaconda3\\lib\\site-packages\\sklearn\\linear_model\\_coordinate_descent.py:633: ConvergenceWarning: Objective did not converge. You might want to increase the number of iterations. Duality gap: 6841842.113203198, tolerance: 19460.228603607422\n",
      "  model = cd_fast.enet_coordinate_descent_gram(\n",
      "C:\\Users\\PC\\anaconda3\\lib\\site-packages\\sklearn\\linear_model\\_coordinate_descent.py:633: ConvergenceWarning: Objective did not converge. You might want to increase the number of iterations. Duality gap: 15729319.37241584, tolerance: 19460.228603607422\n",
      "  model = cd_fast.enet_coordinate_descent_gram(\n",
      "C:\\Users\\PC\\anaconda3\\lib\\site-packages\\sklearn\\linear_model\\_coordinate_descent.py:633: ConvergenceWarning: Objective did not converge. You might want to increase the number of iterations. Duality gap: 31206351.99027261, tolerance: 19460.228603607422\n",
      "  model = cd_fast.enet_coordinate_descent_gram(\n",
      "C:\\Users\\PC\\anaconda3\\lib\\site-packages\\sklearn\\linear_model\\_coordinate_descent.py:633: ConvergenceWarning: Objective did not converge. You might want to increase the number of iterations. Duality gap: 871868.3453858495, tolerance: 21137.21292836611\n",
      "  model = cd_fast.enet_coordinate_descent_gram(\n",
      "C:\\Users\\PC\\anaconda3\\lib\\site-packages\\sklearn\\linear_model\\_coordinate_descent.py:633: ConvergenceWarning: Objective did not converge. You might want to increase the number of iterations. Duality gap: 758672.6551787257, tolerance: 21137.21292836611\n",
      "  model = cd_fast.enet_coordinate_descent_gram(\n",
      "C:\\Users\\PC\\anaconda3\\lib\\site-packages\\sklearn\\linear_model\\_coordinate_descent.py:633: ConvergenceWarning: Objective did not converge. You might want to increase the number of iterations. Duality gap: 2285675.2118362635, tolerance: 21137.21292836611\n",
      "  model = cd_fast.enet_coordinate_descent_gram(\n",
      "C:\\Users\\PC\\anaconda3\\lib\\site-packages\\sklearn\\linear_model\\_coordinate_descent.py:633: ConvergenceWarning: Objective did not converge. You might want to increase the number of iterations. Duality gap: 8095286.948225722, tolerance: 21137.21292836611\n",
      "  model = cd_fast.enet_coordinate_descent_gram(\n",
      "C:\\Users\\PC\\anaconda3\\lib\\site-packages\\sklearn\\linear_model\\_coordinate_descent.py:633: ConvergenceWarning: Objective did not converge. You might want to increase the number of iterations. Duality gap: 18842319.88892722, tolerance: 21137.21292836611\n",
      "  model = cd_fast.enet_coordinate_descent_gram(\n",
      "C:\\Users\\PC\\anaconda3\\lib\\site-packages\\sklearn\\linear_model\\_coordinate_descent.py:633: ConvergenceWarning: Objective did not converge. You might want to increase the number of iterations. Duality gap: 37632453.88700849, tolerance: 21137.21292836611\n",
      "  model = cd_fast.enet_coordinate_descent_gram(\n",
      "C:\\Users\\PC\\anaconda3\\lib\\site-packages\\sklearn\\linear_model\\_coordinate_descent.py:647: ConvergenceWarning: Objective did not converge. You might want to increase the number of iterations, check the scale of the features or consider increasing regularisation. Duality gap: 5.235e+07, tolerance: 2.254e+04\n",
      "  model = cd_fast.enet_coordinate_descent(\n"
     ]
    },
    {
     "name": "stdout",
     "output_type": "stream",
     "text": [
      "Number of features: 48\n",
      "Train set\n",
      "  MSE  1.5123E+03\n",
      "  RSS  1.6682E+08\n",
      "Test set\n",
      "  MSE  3.9321E+03\n",
      "  RSS  1.0263E+06\n"
     ]
    }
   ],
   "source": [
    "# Viết code ở đây:\n",
    "from sklearn.linear_model import Lasso\n",
    "from sklearn.linear_model import Ridge\n",
    "\n",
    "# Scale train and test features\n",
    "ss = StandardScaler()\n",
    "scaled_train_features_all = ss.fit_transform(train_features_all)\n",
    "scaled_test_features_all = ss.transform(test_features_all)\n",
    "\n",
    "# Run LassoCV to select features\n",
    "lasso = LassoCV(alphas=np.arange(0.001, 0.01, 0.001), cv=10, max_iter=5000)\n",
    "lasso.fit(scaled_train_features_all, train_labels)\n",
    "\n",
    "# Extract selected features\n",
    "selected_features_index = np.argwhere(lasso.coef_ != 0).reshape(1, -1)[0]\n",
    "selected_features = [features[i] for i in selected_features_index]\n",
    "\n",
    "# Run RidgeCV on selected features\n",
    "ridge = RidgeCV(alphas=l2_penalty, cv=10)\n",
    "ridge.fit(scaled_train_features_all[:, selected_features_index], train_labels)\n",
    "\n",
    "# mse and rss of train set and test set\n",
    "train_mse, train_rss = errors(ridge, scaled_train_features_all[:, selected_features_index], train_labels)\n",
    "test_mse, test_rss = errors(ridge, scaled_test_features_all[:, selected_features_index], test_labels)\n",
    "\n",
    "print(f'Number of features: {np.count_nonzero(lasso.coef_)}')\n",
    "print(f'Train set\\n  MSE {train_mse: .4E}\\n  RSS {train_rss: .4E}')\n",
    "print(f'Test set\\n  MSE {test_mse: .4E}\\n  RSS {test_rss: .4E}')"
   ]
  },
  {
   "cell_type": "markdown",
   "metadata": {
    "id": "GPKAOxhp3pgD"
   },
   "source": [
    "### Phân phối sai số bình phương\n",
    "Chúng ta hãy đưa ra kết luận; lưu ý thêm, hãy quan sát cách các sai số bình phương được phân phối."
   ]
  },
  {
   "cell_type": "code",
   "execution_count": 27,
   "metadata": {
    "id": "ve-GpGS13pgE",
    "outputId": "39ff9df1-cf8b-4cc8-9ec0-f5704d239b0f"
   },
   "outputs": [
    {
     "data": {
      "image/png": "[encoded data removed]",
      "text/plain": [
       "<Figure size 432x288 with 2 Axes>"
      ]
     },
     "metadata": {},
     "output_type": "display_data"
    }
   ],
   "source": [
    "train_square_errors = np.log( (train_labels - multi_model.predict(train_features)) ** 2 )\n",
    "test_square_errors = np.log( (test_labels - test_predictions) ** 2 )\n",
    "fig, (train_ax, test_ax) = plt.subplots(ncols=2, sharey=True)\n",
    "train_ax.hist(train_square_errors, bins=20, density=True)\n",
    "train_ax.set_xlabel(\"Train error (log)\")\n",
    "test_ax.set_xlabel(\"Test error (log)\")\n",
    "test_ax.hist(test_square_errors, bins=20, density=True)\n",
    "plt.show()"
   ]
  },
  {
   "cell_type": "code",
   "execution_count": null,
   "metadata": {},
   "outputs": [],
   "source": []
  }
 ],
 "metadata": {
  "colab": {
   "provenance": []
  },
  "kernelspec": {
   "display_name": "Python 3 (ipykernel)",
   "language": "python",
   "name": "python3"
  },
  "language_info": {
   "codemirror_mode": {
    "name": "ipython",
    "version": 3
   },
   "file_extension": ".py",
   "mimetype": "text/x-python",
   "name": "python",
   "nbconvert_exporter": "python",
   "pygments_lexer": "ipython3",
   "version": "3.11.3"
  }
 },
 "nbformat": 4,
 "nbformat_minor": 4
}
